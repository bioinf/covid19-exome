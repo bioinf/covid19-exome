{
 "cells": [
  {
   "cell_type": "markdown",
   "metadata": {},
   "source": [
    "## RVAS on genes"
   ]
  },
  {
   "cell_type": "code",
   "execution_count": 1,
   "metadata": {
    "execution": {
     "iopub.execute_input": "2021-11-11T08:30:52.117418Z",
     "iopub.status.busy": "2021-11-11T08:30:52.116839Z",
     "iopub.status.idle": "2021-11-11T08:30:54.846400Z",
     "shell.execute_reply": "2021-11-11T08:30:54.845059Z"
    }
   },
   "outputs": [],
   "source": [
    "import hail as hl\n",
    "from bokeh.io import output_notebook, show\n",
    "import numpy as np\n",
    "import pandas as pd\n",
    "import os\n",
    "\n",
    "os.environ['JAVA_HOME']='/usr/lib/jvm/java-1.8.0-openjdk-amd64'\n",
    "os.environ['PATH'] = os.environ['PATH'] + f':{os.environ[\"JAVA_HOME\"]}/bin'\n",
    "os.environ['JAVA_OPTS']='-Xmx150g'"
   ]
  },
  {
   "cell_type": "code",
   "execution_count": 2,
   "metadata": {
    "execution": {
     "iopub.execute_input": "2021-11-11T08:30:54.854749Z",
     "iopub.status.busy": "2021-11-11T08:30:54.853554Z",
     "iopub.status.idle": "2021-11-11T08:31:01.173086Z",
     "shell.execute_reply": "2021-11-11T08:31:01.173820Z"
    }
   },
   "outputs": [
    {
     "name": "stdout",
     "output_type": "stream",
     "text": [
      "2022-01-28 12:15:33 WARN  Utils:66 - Your hostname, bioinf resolves to a loopback address: 127.0.1.1; using 217.148.215.30 instead (on interface bond0)\n",
      "2022-01-28 12:15:33 WARN  Utils:66 - Set SPARK_LOCAL_IP if you need to bind to another address\n",
      "2022-01-28 12:15:33 WARN  NativeCodeLoader:62 - Unable to load native-hadoop library for your platform... using builtin-java classes where applicable\n"
     ]
    },
    {
     "name": "stderr",
     "output_type": "stream",
     "text": [
      "Setting default log level to \"WARN\".\n",
      "To adjust logging level use sc.setLogLevel(newLevel). For SparkR, use setLogLevel(newLevel).\n"
     ]
    },
    {
     "name": "stdout",
     "output_type": "stream",
     "text": [
      "2022-01-28 12:15:34 WARN  Hail:43 - This Hail JAR was compiled for Spark 2.4.5, running with Spark 2.4.1.\n",
      "  Compatibility is not guaranteed.\n",
      "2022-01-28 12:15:35 WARN  Utils:66 - Service 'SparkUI' could not bind on port 4040. Attempting port 4041.\n",
      "2022-01-28 12:15:35 WARN  Utils:66 - Service 'SparkUI' could not bind on port 4041. Attempting port 4042.\n",
      "2022-01-28 12:15:35 WARN  Utils:66 - Service 'SparkUI' could not bind on port 4042. Attempting port 4043.\n"
     ]
    },
    {
     "name": "stderr",
     "output_type": "stream",
     "text": [
      "Running on Apache Spark version 2.4.1\n",
      "SparkUI available at http://217.148.215.30:4043\n",
      "Welcome to\n",
      "     __  __     <>__\n",
      "    / /_/ /__  __/ /\n",
      "   / __  / _ `/ / /\n",
      "  /_/ /_/\\_,_/_/_/   version 0.2.63-cb767a7507c8\n",
      "LOGGING: writing to /media/array/covid_proj/cvas_and_rvas/hail-20220128-1215-0.2.63-cb767a7507c8.log\n"
     ]
    },
    {
     "data": {
      "text/html": [
       "\n",
       "    <div class=\"bk-root\">\n",
       "        <a href=\"https://bokeh.org\" target=\"_blank\" class=\"bk-logo bk-logo-small bk-logo-notebook\"></a>\n",
       "        <span id=\"1001\">Loading BokehJS ...</span>\n",
       "    </div>"
      ]
     },
     "metadata": {},
     "output_type": "display_data"
    },
    {
     "data": {
      "application/javascript": [
       "\n",
       "(function(root) {\n",
       "  function now() {\n",
       "    return new Date();\n",
       "  }\n",
       "\n",
       "  var force = true;\n",
       "\n",
       "  if (typeof root._bokeh_onload_callbacks === \"undefined\" || force === true) {\n",
       "    root._bokeh_onload_callbacks = [];\n",
       "    root._bokeh_is_loading = undefined;\n",
       "  }\n",
       "\n",
       "  var JS_MIME_TYPE = 'application/javascript';\n",
       "  var HTML_MIME_TYPE = 'text/html';\n",
       "  var EXEC_MIME_TYPE = 'application/vnd.bokehjs_exec.v0+json';\n",
       "  var CLASS_NAME = 'output_bokeh rendered_html';\n",
       "\n",
       "  /**\n",
       "   * Render data to the DOM node\n",
       "   */\n",
       "  function render(props, node) {\n",
       "    var script = document.createElement(\"script\");\n",
       "    node.appendChild(script);\n",
       "  }\n",
       "\n",
       "  /**\n",
       "   * Handle when an output is cleared or removed\n",
       "   */\n",
       "  function handleClearOutput(event, handle) {\n",
       "    var cell = handle.cell;\n",
       "\n",
       "    var id = cell.output_area._bokeh_element_id;\n",
       "    var server_id = cell.output_area._bokeh_server_id;\n",
       "    // Clean up Bokeh references\n",
       "    if (id != null && id in Bokeh.index) {\n",
       "      Bokeh.index[id].model.document.clear();\n",
       "      delete Bokeh.index[id];\n",
       "    }\n",
       "\n",
       "    if (server_id !== undefined) {\n",
       "      // Clean up Bokeh references\n",
       "      var cmd = \"from bokeh.io.state import curstate; print(curstate().uuid_to_server['\" + server_id + \"'].get_sessions()[0].document.roots[0]._id)\";\n",
       "      cell.notebook.kernel.execute(cmd, {\n",
       "        iopub: {\n",
       "          output: function(msg) {\n",
       "            var id = msg.content.text.trim();\n",
       "            if (id in Bokeh.index) {\n",
       "              Bokeh.index[id].model.document.clear();\n",
       "              delete Bokeh.index[id];\n",
       "            }\n",
       "          }\n",
       "        }\n",
       "      });\n",
       "      // Destroy server and session\n",
       "      var cmd = \"import bokeh.io.notebook as ion; ion.destroy_server('\" + server_id + \"')\";\n",
       "      cell.notebook.kernel.execute(cmd);\n",
       "    }\n",
       "  }\n",
       "\n",
       "  /**\n",
       "   * Handle when a new output is added\n",
       "   */\n",
       "  function handleAddOutput(event, handle) {\n",
       "    var output_area = handle.output_area;\n",
       "    var output = handle.output;\n",
       "\n",
       "    // limit handleAddOutput to display_data with EXEC_MIME_TYPE content only\n",
       "    if ((output.output_type != \"display_data\") || (!output.data.hasOwnProperty(EXEC_MIME_TYPE))) {\n",
       "      return\n",
       "    }\n",
       "\n",
       "    var toinsert = output_area.element.find(\".\" + CLASS_NAME.split(' ')[0]);\n",
       "\n",
       "    if (output.metadata[EXEC_MIME_TYPE][\"id\"] !== undefined) {\n",
       "      toinsert[toinsert.length - 1].firstChild.textContent = output.data[JS_MIME_TYPE];\n",
       "      // store reference to embed id on output_area\n",
       "      output_area._bokeh_element_id = output.metadata[EXEC_MIME_TYPE][\"id\"];\n",
       "    }\n",
       "    if (output.metadata[EXEC_MIME_TYPE][\"server_id\"] !== undefined) {\n",
       "      var bk_div = document.createElement(\"div\");\n",
       "      bk_div.innerHTML = output.data[HTML_MIME_TYPE];\n",
       "      var script_attrs = bk_div.children[0].attributes;\n",
       "      for (var i = 0; i < script_attrs.length; i++) {\n",
       "        toinsert[toinsert.length - 1].firstChild.setAttribute(script_attrs[i].name, script_attrs[i].value);\n",
       "      }\n",
       "      // store reference to server id on output_area\n",
       "      output_area._bokeh_server_id = output.metadata[EXEC_MIME_TYPE][\"server_id\"];\n",
       "    }\n",
       "  }\n",
       "\n",
       "  function register_renderer(events, OutputArea) {\n",
       "\n",
       "    function append_mime(data, metadata, element) {\n",
       "      // create a DOM node to render to\n",
       "      var toinsert = this.create_output_subarea(\n",
       "        metadata,\n",
       "        CLASS_NAME,\n",
       "        EXEC_MIME_TYPE\n",
       "      );\n",
       "      this.keyboard_manager.register_events(toinsert);\n",
       "      // Render to node\n",
       "      var props = {data: data, metadata: metadata[EXEC_MIME_TYPE]};\n",
       "      render(props, toinsert[toinsert.length - 1]);\n",
       "      element.append(toinsert);\n",
       "      return toinsert\n",
       "    }\n",
       "\n",
       "    /* Handle when an output is cleared or removed */\n",
       "    events.on('clear_output.CodeCell', handleClearOutput);\n",
       "    events.on('delete.Cell', handleClearOutput);\n",
       "\n",
       "    /* Handle when a new output is added */\n",
       "    events.on('output_added.OutputArea', handleAddOutput);\n",
       "\n",
       "    /**\n",
       "     * Register the mime type and append_mime function with output_area\n",
       "     */\n",
       "    OutputArea.prototype.register_mime_type(EXEC_MIME_TYPE, append_mime, {\n",
       "      /* Is output safe? */\n",
       "      safe: true,\n",
       "      /* Index of renderer in `output_area.display_order` */\n",
       "      index: 0\n",
       "    });\n",
       "  }\n",
       "\n",
       "  // register the mime type if in Jupyter Notebook environment and previously unregistered\n",
       "  if (root.Jupyter !== undefined) {\n",
       "    var events = require('base/js/events');\n",
       "    var OutputArea = require('notebook/js/outputarea').OutputArea;\n",
       "\n",
       "    if (OutputArea.prototype.mime_types().indexOf(EXEC_MIME_TYPE) == -1) {\n",
       "      register_renderer(events, OutputArea);\n",
       "    }\n",
       "  }\n",
       "\n",
       "  \n",
       "  if (typeof (root._bokeh_timeout) === \"undefined\" || force === true) {\n",
       "    root._bokeh_timeout = Date.now() + 5000;\n",
       "    root._bokeh_failed_load = false;\n",
       "  }\n",
       "\n",
       "  var NB_LOAD_WARNING = {'data': {'text/html':\n",
       "     \"<div style='background-color: #fdd'>\\n\"+\n",
       "     \"<p>\\n\"+\n",
       "     \"BokehJS does not appear to have successfully loaded. If loading BokehJS from CDN, this \\n\"+\n",
       "     \"may be due to a slow or bad network connection. Possible fixes:\\n\"+\n",
       "     \"</p>\\n\"+\n",
       "     \"<ul>\\n\"+\n",
       "     \"<li>re-rerun `output_notebook()` to attempt to load from CDN again, or</li>\\n\"+\n",
       "     \"<li>use INLINE resources instead, as so:</li>\\n\"+\n",
       "     \"</ul>\\n\"+\n",
       "     \"<code>\\n\"+\n",
       "     \"from bokeh.resources import INLINE\\n\"+\n",
       "     \"output_notebook(resources=INLINE)\\n\"+\n",
       "     \"</code>\\n\"+\n",
       "     \"</div>\"}};\n",
       "\n",
       "  function display_loaded() {\n",
       "    var el = document.getElementById(\"1001\");\n",
       "    if (el != null) {\n",
       "      el.textContent = \"BokehJS is loading...\";\n",
       "    }\n",
       "    if (root.Bokeh !== undefined) {\n",
       "      if (el != null) {\n",
       "        el.textContent = \"BokehJS \" + root.Bokeh.version + \" successfully loaded.\";\n",
       "      }\n",
       "    } else if (Date.now() < root._bokeh_timeout) {\n",
       "      setTimeout(display_loaded, 100)\n",
       "    }\n",
       "  }\n",
       "\n",
       "\n",
       "  function run_callbacks() {\n",
       "    try {\n",
       "      root._bokeh_onload_callbacks.forEach(function(callback) {\n",
       "        if (callback != null)\n",
       "          callback();\n",
       "      });\n",
       "    } finally {\n",
       "      delete root._bokeh_onload_callbacks\n",
       "    }\n",
       "    console.debug(\"Bokeh: all callbacks have finished\");\n",
       "  }\n",
       "\n",
       "  function load_libs(css_urls, js_urls, callback) {\n",
       "    if (css_urls == null) css_urls = [];\n",
       "    if (js_urls == null) js_urls = [];\n",
       "\n",
       "    root._bokeh_onload_callbacks.push(callback);\n",
       "    if (root._bokeh_is_loading > 0) {\n",
       "      console.debug(\"Bokeh: BokehJS is being loaded, scheduling callback at\", now());\n",
       "      return null;\n",
       "    }\n",
       "    if (js_urls == null || js_urls.length === 0) {\n",
       "      run_callbacks();\n",
       "      return null;\n",
       "    }\n",
       "    console.debug(\"Bokeh: BokehJS not loaded, scheduling load and callback at\", now());\n",
       "    root._bokeh_is_loading = css_urls.length + js_urls.length;\n",
       "\n",
       "    function on_load() {\n",
       "      root._bokeh_is_loading--;\n",
       "      if (root._bokeh_is_loading === 0) {\n",
       "        console.debug(\"Bokeh: all BokehJS libraries/stylesheets loaded\");\n",
       "        run_callbacks()\n",
       "      }\n",
       "    }\n",
       "\n",
       "    function on_error() {\n",
       "      console.error(\"failed to load \" + url);\n",
       "    }\n",
       "\n",
       "    for (var i = 0; i < css_urls.length; i++) {\n",
       "      var url = css_urls[i];\n",
       "      const element = document.createElement(\"link\");\n",
       "      element.onload = on_load;\n",
       "      element.onerror = on_error;\n",
       "      element.rel = \"stylesheet\";\n",
       "      element.type = \"text/css\";\n",
       "      element.href = url;\n",
       "      console.debug(\"Bokeh: injecting link tag for BokehJS stylesheet: \", url);\n",
       "      document.body.appendChild(element);\n",
       "    }\n",
       "\n",
       "    for (var i = 0; i < js_urls.length; i++) {\n",
       "      var url = js_urls[i];\n",
       "      var element = document.createElement('script');\n",
       "      element.onload = on_load;\n",
       "      element.onerror = on_error;\n",
       "      element.async = false;\n",
       "      element.src = url;\n",
       "      console.debug(\"Bokeh: injecting script tag for BokehJS library: \", url);\n",
       "      document.head.appendChild(element);\n",
       "    }\n",
       "  };var element = document.getElementById(\"1001\");\n",
       "  if (element == null) {\n",
       "    console.error(\"Bokeh: ERROR: autoload.js configured with elementid '1001' but no matching script tag was found. \")\n",
       "    return false;\n",
       "  }\n",
       "\n",
       "  function inject_raw_css(css) {\n",
       "    const element = document.createElement(\"style\");\n",
       "    element.appendChild(document.createTextNode(css));\n",
       "    document.body.appendChild(element);\n",
       "  }\n",
       "\n",
       "  \n",
       "  var js_urls = [\"https://cdn.pydata.org/bokeh/release/bokeh-1.4.0.min.js\", \"https://cdn.pydata.org/bokeh/release/bokeh-widgets-1.4.0.min.js\", \"https://cdn.pydata.org/bokeh/release/bokeh-tables-1.4.0.min.js\", \"https://cdn.pydata.org/bokeh/release/bokeh-gl-1.4.0.min.js\"];\n",
       "  var css_urls = [];\n",
       "  \n",
       "\n",
       "  var inline_js = [\n",
       "    function(Bokeh) {\n",
       "      Bokeh.set_log_level(\"info\");\n",
       "    },\n",
       "    function(Bokeh) {\n",
       "    \n",
       "    \n",
       "    }\n",
       "  ];\n",
       "\n",
       "  function run_inline_js() {\n",
       "    \n",
       "    if (root.Bokeh !== undefined || force === true) {\n",
       "      \n",
       "    for (var i = 0; i < inline_js.length; i++) {\n",
       "      inline_js[i].call(root, root.Bokeh);\n",
       "    }\n",
       "    if (force === true) {\n",
       "        display_loaded();\n",
       "      }} else if (Date.now() < root._bokeh_timeout) {\n",
       "      setTimeout(run_inline_js, 100);\n",
       "    } else if (!root._bokeh_failed_load) {\n",
       "      console.log(\"Bokeh: BokehJS failed to load within specified timeout.\");\n",
       "      root._bokeh_failed_load = true;\n",
       "    } else if (force !== true) {\n",
       "      var cell = $(document.getElementById(\"1001\")).parents('.cell').data().cell;\n",
       "      cell.output_area.append_execute_result(NB_LOAD_WARNING)\n",
       "    }\n",
       "\n",
       "  }\n",
       "\n",
       "  if (root._bokeh_is_loading === 0) {\n",
       "    console.debug(\"Bokeh: BokehJS loaded, going straight to plotting\");\n",
       "    run_inline_js();\n",
       "  } else {\n",
       "    load_libs(css_urls, js_urls, function() {\n",
       "      console.debug(\"Bokeh: BokehJS plotting callback run at\", now());\n",
       "      run_inline_js();\n",
       "    });\n",
       "  }\n",
       "}(window));"
      ],
      "application/vnd.bokehjs_load.v0+json": "\n(function(root) {\n  function now() {\n    return new Date();\n  }\n\n  var force = true;\n\n  if (typeof root._bokeh_onload_callbacks === \"undefined\" || force === true) {\n    root._bokeh_onload_callbacks = [];\n    root._bokeh_is_loading = undefined;\n  }\n\n  \n\n  \n  if (typeof (root._bokeh_timeout) === \"undefined\" || force === true) {\n    root._bokeh_timeout = Date.now() + 5000;\n    root._bokeh_failed_load = false;\n  }\n\n  var NB_LOAD_WARNING = {'data': {'text/html':\n     \"<div style='background-color: #fdd'>\\n\"+\n     \"<p>\\n\"+\n     \"BokehJS does not appear to have successfully loaded. If loading BokehJS from CDN, this \\n\"+\n     \"may be due to a slow or bad network connection. Possible fixes:\\n\"+\n     \"</p>\\n\"+\n     \"<ul>\\n\"+\n     \"<li>re-rerun `output_notebook()` to attempt to load from CDN again, or</li>\\n\"+\n     \"<li>use INLINE resources instead, as so:</li>\\n\"+\n     \"</ul>\\n\"+\n     \"<code>\\n\"+\n     \"from bokeh.resources import INLINE\\n\"+\n     \"output_notebook(resources=INLINE)\\n\"+\n     \"</code>\\n\"+\n     \"</div>\"}};\n\n  function display_loaded() {\n    var el = document.getElementById(\"1001\");\n    if (el != null) {\n      el.textContent = \"BokehJS is loading...\";\n    }\n    if (root.Bokeh !== undefined) {\n      if (el != null) {\n        el.textContent = \"BokehJS \" + root.Bokeh.version + \" successfully loaded.\";\n      }\n    } else if (Date.now() < root._bokeh_timeout) {\n      setTimeout(display_loaded, 100)\n    }\n  }\n\n\n  function run_callbacks() {\n    try {\n      root._bokeh_onload_callbacks.forEach(function(callback) {\n        if (callback != null)\n          callback();\n      });\n    } finally {\n      delete root._bokeh_onload_callbacks\n    }\n    console.debug(\"Bokeh: all callbacks have finished\");\n  }\n\n  function load_libs(css_urls, js_urls, callback) {\n    if (css_urls == null) css_urls = [];\n    if (js_urls == null) js_urls = [];\n\n    root._bokeh_onload_callbacks.push(callback);\n    if (root._bokeh_is_loading > 0) {\n      console.debug(\"Bokeh: BokehJS is being loaded, scheduling callback at\", now());\n      return null;\n    }\n    if (js_urls == null || js_urls.length === 0) {\n      run_callbacks();\n      return null;\n    }\n    console.debug(\"Bokeh: BokehJS not loaded, scheduling load and callback at\", now());\n    root._bokeh_is_loading = css_urls.length + js_urls.length;\n\n    function on_load() {\n      root._bokeh_is_loading--;\n      if (root._bokeh_is_loading === 0) {\n        console.debug(\"Bokeh: all BokehJS libraries/stylesheets loaded\");\n        run_callbacks()\n      }\n    }\n\n    function on_error() {\n      console.error(\"failed to load \" + url);\n    }\n\n    for (var i = 0; i < css_urls.length; i++) {\n      var url = css_urls[i];\n      const element = document.createElement(\"link\");\n      element.onload = on_load;\n      element.onerror = on_error;\n      element.rel = \"stylesheet\";\n      element.type = \"text/css\";\n      element.href = url;\n      console.debug(\"Bokeh: injecting link tag for BokehJS stylesheet: \", url);\n      document.body.appendChild(element);\n    }\n\n    for (var i = 0; i < js_urls.length; i++) {\n      var url = js_urls[i];\n      var element = document.createElement('script');\n      element.onload = on_load;\n      element.onerror = on_error;\n      element.async = false;\n      element.src = url;\n      console.debug(\"Bokeh: injecting script tag for BokehJS library: \", url);\n      document.head.appendChild(element);\n    }\n  };var element = document.getElementById(\"1001\");\n  if (element == null) {\n    console.error(\"Bokeh: ERROR: autoload.js configured with elementid '1001' but no matching script tag was found. \")\n    return false;\n  }\n\n  function inject_raw_css(css) {\n    const element = document.createElement(\"style\");\n    element.appendChild(document.createTextNode(css));\n    document.body.appendChild(element);\n  }\n\n  \n  var js_urls = [\"https://cdn.pydata.org/bokeh/release/bokeh-1.4.0.min.js\", \"https://cdn.pydata.org/bokeh/release/bokeh-widgets-1.4.0.min.js\", \"https://cdn.pydata.org/bokeh/release/bokeh-tables-1.4.0.min.js\", \"https://cdn.pydata.org/bokeh/release/bokeh-gl-1.4.0.min.js\"];\n  var css_urls = [];\n  \n\n  var inline_js = [\n    function(Bokeh) {\n      Bokeh.set_log_level(\"info\");\n    },\n    function(Bokeh) {\n    \n    \n    }\n  ];\n\n  function run_inline_js() {\n    \n    if (root.Bokeh !== undefined || force === true) {\n      \n    for (var i = 0; i < inline_js.length; i++) {\n      inline_js[i].call(root, root.Bokeh);\n    }\n    if (force === true) {\n        display_loaded();\n      }} else if (Date.now() < root._bokeh_timeout) {\n      setTimeout(run_inline_js, 100);\n    } else if (!root._bokeh_failed_load) {\n      console.log(\"Bokeh: BokehJS failed to load within specified timeout.\");\n      root._bokeh_failed_load = true;\n    } else if (force !== true) {\n      var cell = $(document.getElementById(\"1001\")).parents('.cell').data().cell;\n      cell.output_area.append_execute_result(NB_LOAD_WARNING)\n    }\n\n  }\n\n  if (root._bokeh_is_loading === 0) {\n    console.debug(\"Bokeh: BokehJS loaded, going straight to plotting\");\n    run_inline_js();\n  } else {\n    load_libs(css_urls, js_urls, function() {\n      console.debug(\"Bokeh: BokehJS plotting callback run at\", now());\n      run_inline_js();\n    });\n  }\n}(window));"
     },
     "metadata": {},
     "output_type": "display_data"
    }
   ],
   "source": [
    "hl.init(spark_conf={\"spark.driver.memory\": '100g'})\n",
    "output_notebook()"
   ]
  },
  {
   "cell_type": "code",
   "execution_count": 3,
   "metadata": {},
   "outputs": [],
   "source": [
    "VCF = '/media/array/covid_proj/filtered_vcf/vep_dp_MergedVariants.renamed.vcf'\n",
    "PHENO = '/media/array/covid_proj/feature_processing/data/pheno_for_analysis_imputed_filtered_INT_OCT.tsv'\n",
    "SAVE_TO = './data_for_rvas/LAST_data_for_rvas_last.tsv'\n",
    "PHENO = '/media/array/covid_proj/feature_processing/data/pheno_filtered_INT_sd3.tsv'\n",
    "SAVE_TO = './rvas_dataset/LAST_data_for_rvas_last.tsv'\n",
    "DRAW = False"
   ]
  },
  {
   "cell_type": "code",
   "execution_count": 4,
   "metadata": {},
   "outputs": [
    {
     "name": "stdout",
     "output_type": "stream",
     "text": [
      "60\n"
     ]
    }
   ],
   "source": [
    "numerical_cols = [\n",
    "    \"BACT_sum\",\n",
    "    \"CT_features\",\n",
    "    \"CT_init\",\n",
    "    \"CT_out\",\n",
    "    \"CT_start\",\n",
    "    \"com_index\",\n",
    "    \"creat\",\n",
    "    \"creat_1\",\n",
    "    \"creat_dynam\",\n",
    "    \"creat_max_min\",\n",
    "    \"crp\",\n",
    "    \"crp_1\",\n",
    "    \"crp_dynam\",\n",
    "    \"crp_max_min\",\n",
    "    \"ct1_init\",\n",
    "    \"ct1_out\",\n",
    "    \"ct1_start\",\n",
    "    \"ct2_init\",\n",
    "    \"ct2_out\",\n",
    "    \"ct2_start\",\n",
    "    \"days_at_hosp\",\n",
    "    \"days_to_hosp\",\n",
    "    \"l\",\n",
    "    \"l_1\",\n",
    "    \"l_3\",\n",
    "    \"l_dynam\",\n",
    "    \"l_max_min\",\n",
    "    \"leuk\",\n",
    "    \"leuk_1\",\n",
    "    \"leuk_3\",\n",
    "    \"leuk_7\",\n",
    "    \"leuk_dynam\",\n",
    "    \"leuk_max_min\",\n",
    "    \"neut\",\n",
    "    \"neut_1\",\n",
    "    \"neut_3\",\n",
    "    \"neut_dynam\",\n",
    "    \"neut_max_min\",\n",
    "    \"pc1\",\n",
    "    \"pc2\"\n",
    "]\n",
    "\n",
    "id_cols = [\"man_id\", \"launch_id\"]\n",
    "categorical_cols = [\n",
    "    \"age\",\n",
    "    \"current_situation\",\n",
    "    \"death\",\n",
    "    \"news\",\n",
    "    \"severity\",\n",
    "    \"news_dynam\",\n",
    "    \"news_init\",\n",
    "    \"news_max_min\",\n",
    "    \"news_out\",\n",
    "    \"news_start\",\n",
    "    \"resp_dis_init\",\n",
    "    \"resp_dis_out\",\n",
    "    \"resp_dis_start\",\n",
    "    \"sex\",\n",
    "    \"storm\",\n",
    "    \"ten_immortality\",\n",
    "    \"week_to_hosp\",\n",
    "]\n",
    "dont_check_cols = [\"treatment\"]\n",
    "all_cols = id_cols + categorical_cols + numerical_cols + dont_check_cols\n",
    "print(len(all_cols))"
   ]
  },
  {
   "cell_type": "code",
   "execution_count": null,
   "metadata": {},
   "outputs": [],
   "source": []
  },
  {
   "cell_type": "markdown",
   "metadata": {},
   "source": [
    "## Import data"
   ]
  },
  {
   "cell_type": "code",
   "execution_count": 5,
   "metadata": {
    "execution": {
     "iopub.execute_input": "2021-11-11T08:31:01.193001Z",
     "iopub.status.busy": "2021-11-11T08:31:01.192117Z",
     "iopub.status.idle": "2021-11-11T08:31:24.682436Z",
     "shell.execute_reply": "2021-11-11T08:31:24.684613Z"
    },
    "scrolled": false
   },
   "outputs": [
    {
     "name": "stderr",
     "output_type": "stream",
     "text": [
      "2022-01-28 12:15:41 Hail: INFO: Reading table to impute column types\n",
      "2022-01-28 12:15:45 Hail: INFO: Loading 61 fields. Counts by type:\n",
      "  float64: 56\n",
      "  int32: 4\n",
      "  str: 1\n",
      "[Stage 2:====================================================>  (124 + 6) / 130]2022-01-28 12:15:54 Hail: INFO: Coerced sorted dataset\n"
     ]
    },
    {
     "name": "stdout",
     "output_type": "stream",
     "text": [
      "840 840 840\n",
      "----------------------------------------\n",
      "Global fields:\n",
      "    None\n",
      "----------------------------------------\n",
      "Column fields:\n",
      "    'genome_id': int32\n",
      "    'pheno': struct {\n",
      "        launch_id: int32, \n",
      "        man_id: int32, \n",
      "        storm: int32, \n",
      "        crp: float64, \n",
      "        leuk: float64, \n",
      "        neut: float64, \n",
      "        l: float64, \n",
      "        creat: float64, \n",
      "        crp_dynam: float64, \n",
      "        leuk_dynam: float64, \n",
      "        neut_dynam: float64, \n",
      "        l_dynam: float64, \n",
      "        creat_dynam: float64, \n",
      "        news_dynam: int32, \n",
      "        treatment: str, \n",
      "        com_index: float64, \n",
      "        ten_immortality: int32, \n",
      "        resp_dis_init: int32, \n",
      "        news_init: int32, \n",
      "        resp_dis_start: int32, \n",
      "        news_start: int32, \n",
      "        resp_dis_out: int32, \n",
      "        CT_init: float64, \n",
      "        ct1_init: float64, \n",
      "        ct2_init: float64, \n",
      "        CT_start: float64, \n",
      "        ct1_start: float64, \n",
      "        ct2_start: float64, \n",
      "        CT_out: float64, \n",
      "        ct1_out: float64, \n",
      "        ct2_out: float64, \n",
      "        CT_features: float64, \n",
      "        days_to_hosp: float64, \n",
      "        current_situation: int32, \n",
      "        BACT_sum: float64, \n",
      "        sex: int32, \n",
      "        death: int32, \n",
      "        leuk_1: float64, \n",
      "        age: int32, \n",
      "        leuk_3: float64, \n",
      "        neut_1: float64, \n",
      "        days_at_hosp: float64, \n",
      "        news_out: int32, \n",
      "        l_3: float64, \n",
      "        leuk_7: float64, \n",
      "        creat_1: float64, \n",
      "        l_1: float64, \n",
      "        crp_1: float64, \n",
      "        neut_3: float64, \n",
      "        crp_max_min: float64, \n",
      "        leuk_max_min: float64, \n",
      "        neut_max_min: float64, \n",
      "        l_max_min: float64, \n",
      "        creat_max_min: float64, \n",
      "        news: int32, \n",
      "        news_max_min: int32, \n",
      "        week_to_hosp: int32, \n",
      "        severity: int32, \n",
      "        pc1: float64, \n",
      "        pc2: float64\n",
      "    }\n",
      "----------------------------------------\n",
      "Row fields:\n",
      "    'locus': locus<GRCh38>\n",
      "    'alleles': array<str>\n",
      "    'rsid': str\n",
      "    'qual': float64\n",
      "    'filters': set<str>\n",
      "    'info': struct {\n",
      "        AC: array<int32>, \n",
      "        AF: array<float64>, \n",
      "        AN: int32, \n",
      "        BaseQRankSum: float64, \n",
      "        DP: int32, \n",
      "        END: int32, \n",
      "        ExcessHet: float64, \n",
      "        FS: float64, \n",
      "        InbreedingCoeff: float64, \n",
      "        MLEAC: array<int32>, \n",
      "        MLEAF: array<float64>, \n",
      "        MQ: float64, \n",
      "        MQRankSum: float64, \n",
      "        QD: float64, \n",
      "        RAW_MQandDP: array<int32>, \n",
      "        ReadPosRankSum: float64, \n",
      "        SOR: float64, \n",
      "        CSQ: array<str>\n",
      "    }\n",
      "----------------------------------------\n",
      "Entry fields:\n",
      "    'AD': array<int32>\n",
      "    'DP': int32\n",
      "    'FT': array<str>\n",
      "    'GQ': int32\n",
      "    'GT': call\n",
      "    'MIN_DP': int32\n",
      "    'PGT': call\n",
      "    'PID': str\n",
      "    'PL': array<int32>\n",
      "    'PS': int32\n",
      "    'RGQ': int32\n",
      "    'SB': array<int32>\n",
      "----------------------------------------\n",
      "Column key: ['genome_id']\n",
      "Row key: ['locus', 'alleles']\n",
      "----------------------------------------\n"
     ]
    }
   ],
   "source": [
    "mt = hl.import_vcf(VCF, reference_genome='GRCh38')\n",
    "mt = mt.annotate_cols(genome_id=hl.int(mt.s))\n",
    "mt = mt.key_cols_by(\"genome_id\")\n",
    "mt = mt.drop(\"s\")\n",
    "\n",
    "sa = hl.import_table(PHENO,\n",
    "                     key='launch_blood_id',\n",
    "                     impute=True,\n",
    "                    missing='')\n",
    "for col in categorical_cols:\n",
    "    exec(f'sa = sa.annotate({col} = hl.int(sa[\"{col}\"]))')\n",
    "for col in id_cols:\n",
    "    exec(f'sa = sa.annotate({col} = hl.int(sa[\"{col}\"]))')\n",
    "for col in numerical_cols:\n",
    "    exec(f'sa = sa.annotate({col} = hl.float(sa[\"{col}\"]))')\n",
    "# sa.describe()\n",
    "\n",
    "a = set(sa.launch_blood_id.collect())\n",
    "b = set(mt.genome_id.collect())\n",
    "print(len(a), len(b), len(a&b))\n",
    "\n",
    "mt = mt.annotate_cols(pheno = sa[mt.genome_id])\n",
    "mt.describe()"
   ]
  },
  {
   "cell_type": "code",
   "execution_count": 6,
   "metadata": {
    "execution": {
     "iopub.execute_input": "2021-11-11T08:31:24.696212Z",
     "iopub.status.busy": "2021-11-11T08:31:24.692558Z",
     "iopub.status.idle": "2021-11-11T08:31:24.730449Z",
     "shell.execute_reply": "2021-11-11T08:31:24.730927Z"
    }
   },
   "outputs": [],
   "source": [
    "mt = mt.filter_rows(hl.len(mt.filters) == 0, keep=True)"
   ]
  },
  {
   "cell_type": "markdown",
   "metadata": {},
   "source": [
    "### FILTERING\n",
    "\n",
    "Filter all variants: MAF < 0.05\n",
    "\n",
    "Other filtrations are the same, as during CVAS"
   ]
  },
  {
   "cell_type": "code",
   "execution_count": 7,
   "metadata": {
    "execution": {
     "iopub.execute_input": "2021-11-11T08:31:24.743391Z",
     "iopub.status.busy": "2021-11-11T08:31:24.741438Z",
     "iopub.status.idle": "2021-11-11T08:32:24.009335Z",
     "shell.execute_reply": "2021-11-11T08:32:24.009950Z"
    }
   },
   "outputs": [
    {
     "name": "stdout",
     "output_type": "stream",
     "text": [
      "--------------------------------------------------------\n",
      "Type:\n",
      "        struct {\n",
      "        dp_stats: struct {\n",
      "            mean: float64, \n",
      "            stdev: float64, \n",
      "            min: float64, \n",
      "            max: float64\n",
      "        }, \n",
      "        gq_stats: struct {\n",
      "            mean: float64, \n",
      "            stdev: float64, \n",
      "            min: float64, \n",
      "            max: float64\n",
      "        }, \n",
      "        call_rate: float64, \n",
      "        n_called: int64, \n",
      "        n_not_called: int64, \n",
      "        n_filtered: int64, \n",
      "        n_hom_ref: int64, \n",
      "        n_het: int64, \n",
      "        n_hom_var: int64, \n",
      "        n_non_ref: int64, \n",
      "        n_singleton: int64, \n",
      "        n_snp: int64, \n",
      "        n_insertion: int64, \n",
      "        n_deletion: int64, \n",
      "        n_transition: int64, \n",
      "        n_transversion: int64, \n",
      "        n_star: int64, \n",
      "        r_ti_tv: float64, \n",
      "        r_het_hom_var: float64, \n",
      "        r_insertion_deletion: float64\n",
      "    }\n",
      "--------------------------------------------------------\n",
      "Source:\n",
      "    <hail.matrixtable.MatrixTable object at 0x7fc6c3489890>\n",
      "Index:\n",
      "    ['column']\n",
      "--------------------------------------------------------\n"
     ]
    }
   ],
   "source": [
    "mt = hl.sample_qc(mt)\n",
    "mt.sample_qc.describe()\n",
    "mt = mt.filter_cols(mt.sample_qc.call_rate >= 0.15)\n",
    "mt = mt.filter_cols(mt.sample_qc.call_rate <= 0.3)\n",
    "if DRAW:\n",
    "    p = hl.plot.histogram(mt.sample_qc.call_rate)\n",
    "    show(p)"
   ]
  },
  {
   "cell_type": "code",
   "execution_count": 8,
   "metadata": {
    "execution": {
     "iopub.execute_input": "2021-11-11T08:32:24.019197Z",
     "iopub.status.busy": "2021-11-11T08:32:24.018655Z",
     "iopub.status.idle": "2021-11-11T08:32:24.335370Z",
     "shell.execute_reply": "2021-11-11T08:32:24.334487Z"
    }
   },
   "outputs": [],
   "source": [
    "mt = hl.variant_qc(mt)\n",
    "mt = mt.annotate_rows(MAF=hl.min(mt.variant_qc.AF))\n",
    "mt = mt.filter_rows(mt.MAF < 0.05)\n",
    "mt = mt.filter_rows(mt.variant_qc.call_rate >= 0.95)"
   ]
  },
  {
   "cell_type": "code",
   "execution_count": 9,
   "metadata": {
    "execution": {
     "iopub.execute_input": "2021-11-11T08:32:24.368506Z",
     "iopub.status.busy": "2021-11-11T08:32:24.367676Z",
     "iopub.status.idle": "2021-11-11T08:33:49.824795Z",
     "shell.execute_reply": "2021-11-11T08:33:49.823532Z"
    }
   },
   "outputs": [],
   "source": [
    "if DRAW:\n",
    "    p = hl.plot.histogram(mt.variant_qc.p_value_hwe)\n",
    "    show(p)"
   ]
  },
  {
   "cell_type": "code",
   "execution_count": 10,
   "metadata": {
    "execution": {
     "iopub.execute_input": "2021-11-11T08:33:49.859171Z",
     "iopub.status.busy": "2021-11-11T08:33:49.858326Z",
     "iopub.status.idle": "2021-11-11T08:35:10.091290Z",
     "shell.execute_reply": "2021-11-11T08:35:10.091995Z"
    }
   },
   "outputs": [],
   "source": [
    "mt = mt.filter_rows(mt.variant_qc.p_value_hwe > 0.001)\n",
    "if DRAW:\n",
    "    p = hl.plot.histogram(mt.variant_qc.p_value_hwe)\n",
    "    show(p)"
   ]
  },
  {
   "cell_type": "markdown",
   "metadata": {},
   "source": [
    "### Sample QC"
   ]
  },
  {
   "cell_type": "code",
   "execution_count": 11,
   "metadata": {
    "execution": {
     "iopub.execute_input": "2021-11-11T08:35:10.096469Z",
     "iopub.status.busy": "2021-11-11T08:35:10.095590Z",
     "iopub.status.idle": "2021-11-11T08:35:10.522472Z",
     "shell.execute_reply": "2021-11-11T08:35:10.523543Z"
    }
   },
   "outputs": [],
   "source": [
    "mt = hl.sample_qc(mt)\n",
    "mt = mt.filter_cols(mt.sample_qc.call_rate >= 0.95)"
   ]
  },
  {
   "cell_type": "code",
   "execution_count": 12,
   "metadata": {
    "execution": {
     "iopub.execute_input": "2021-11-11T08:35:10.528469Z",
     "iopub.status.busy": "2021-11-11T08:35:10.527009Z",
     "iopub.status.idle": "2021-11-11T08:35:59.274706Z",
     "shell.execute_reply": "2021-11-11T08:35:59.275322Z"
    }
   },
   "outputs": [],
   "source": [
    "if DRAW:\n",
    "    p = hl.plot.scatter(x=mt.sample_qc.r_het_hom_var, y=mt.sample_qc.call_rate)\n",
    "    show(p)"
   ]
  },
  {
   "cell_type": "code",
   "execution_count": 13,
   "metadata": {
    "execution": {
     "iopub.execute_input": "2021-11-11T08:35:59.289369Z",
     "iopub.status.busy": "2021-11-11T08:35:59.288764Z",
     "iopub.status.idle": "2021-11-11T08:37:41.351698Z",
     "shell.execute_reply": "2021-11-11T08:37:41.352776Z"
    }
   },
   "outputs": [],
   "source": [
    "if DRAW:\n",
    "    p = hl.plot.histogram(mt.sample_qc.r_insertion_deletion)\n",
    "    show(p)"
   ]
  },
  {
   "cell_type": "code",
   "execution_count": 14,
   "metadata": {
    "execution": {
     "iopub.execute_input": "2021-11-11T08:37:41.357592Z",
     "iopub.status.busy": "2021-11-11T08:37:41.356228Z",
     "iopub.status.idle": "2021-11-11T08:39:19.058242Z",
     "shell.execute_reply": "2021-11-11T08:39:19.057526Z"
    }
   },
   "outputs": [],
   "source": [
    "if DRAW:\n",
    "    p = hl.plot.histogram(mt.sample_qc.r_ti_tv)\n",
    "    show(p)"
   ]
  },
  {
   "cell_type": "code",
   "execution_count": 15,
   "metadata": {
    "execution": {
     "iopub.execute_input": "2021-11-11T08:39:19.074887Z",
     "iopub.status.busy": "2021-11-11T08:39:19.074100Z",
     "iopub.status.idle": "2021-11-11T08:40:05.028361Z",
     "shell.execute_reply": "2021-11-11T08:40:05.028975Z"
    }
   },
   "outputs": [],
   "source": [
    "if DRAW:\n",
    "    p = hl.plot.scatter(x=mt.sample_qc.r_het_hom_var, y=mt.sample_qc.call_rate)\n",
    "    show(p)"
   ]
  },
  {
   "cell_type": "code",
   "execution_count": 16,
   "metadata": {
    "execution": {
     "iopub.execute_input": "2021-11-11T08:40:05.047647Z",
     "iopub.status.busy": "2021-11-11T08:40:05.046558Z",
     "iopub.status.idle": "2021-11-11T08:40:50.450123Z",
     "shell.execute_reply": "2021-11-11T08:40:50.450798Z"
    }
   },
   "outputs": [],
   "source": [
    "if DRAW:\n",
    "    p = hl.plot.scatter(x=mt.sample_qc.r_het_hom_var, y=mt.sample_qc.call_rate)\n",
    "    show(p)"
   ]
  },
  {
   "cell_type": "code",
   "execution_count": 17,
   "metadata": {
    "execution": {
     "iopub.execute_input": "2021-11-11T08:40:50.503994Z",
     "iopub.status.busy": "2021-11-11T08:40:50.503039Z",
     "iopub.status.idle": "2021-11-11T08:41:50.601060Z",
     "shell.execute_reply": "2021-11-11T08:41:50.601832Z"
    }
   },
   "outputs": [
    {
     "name": "stderr",
     "output_type": "stream",
     "text": [
      "[Stage 3:=================================================>    (120 + 10) / 130]2022-01-28 12:16:03 Hail: INFO: Coerced sorted dataset\n",
      "[Stage 6:=====================================================> (126 + 4) / 130]2022-01-28 12:16:19 Hail: INFO: Coerced sorted dataset\n",
      "[Stage 9:====================================================>  (124 + 6) / 130]2022-01-28 12:16:37 Hail: INFO: Coerced sorted dataset\n",
      "[Stage 10:====================================================> (127 + 3) / 130]"
     ]
    },
    {
     "data": {
      "text/plain": [
       "0.9960309204722916"
      ]
     },
     "execution_count": 17,
     "metadata": {},
     "output_type": "execute_result"
    }
   ],
   "source": [
    "mt.aggregate_entries(hl.agg.fraction(hl.is_defined(mt.GT)))"
   ]
  },
  {
   "cell_type": "code",
   "execution_count": 18,
   "metadata": {
    "execution": {
     "iopub.execute_input": "2021-11-11T08:41:50.611752Z",
     "iopub.status.busy": "2021-11-11T08:41:50.605521Z",
     "iopub.status.idle": "2021-11-11T08:42:52.313302Z",
     "shell.execute_reply": "2021-11-11T08:42:52.312602Z"
    },
    "scrolled": true
   },
   "outputs": [
    {
     "name": "stderr",
     "output_type": "stream",
     "text": [
      "[Stage 11:===================================================>  (124 + 6) / 130]2022-01-28 12:16:54 Hail: INFO: Coerced sorted dataset\n",
      "[Stage 14:================================================>    (118 + 12) / 130]2022-01-28 12:17:11 Hail: INFO: Coerced sorted dataset\n",
      "[Stage 17:=====================================================>(128 + 2) / 130]2022-01-28 12:17:26 Hail: INFO: Coerced sorted dataset\n",
      "[Stage 18:====================================================> (127 + 3) / 130]"
     ]
    },
    {
     "data": {
      "text/plain": [
       "(90502, 768)"
      ]
     },
     "execution_count": 18,
     "metadata": {},
     "output_type": "execute_result"
    }
   ],
   "source": [
    "mt.count()"
   ]
  },
  {
   "cell_type": "markdown",
   "metadata": {},
   "source": [
    "## Aggregate by gene"
   ]
  },
  {
   "cell_type": "markdown",
   "metadata": {},
   "source": [
    "Here we use annotations of Ensembl Variant Effect Predictor (VEP).\n",
    "\n",
    "- get the desired annotation field\n",
    "- need to split the annotation on '/\\|' and take the annotation only for the desired transcript (we use consequence and canonical fields)\n",
    "\n",
    "    * Consequences: take all HIGH (https://m.ensembl.org/info/genome/variation/prediction/predicted_data.html):\n",
    "        * splice_acceptor_variant\t\n",
    "        * splice_donor_variant\t\n",
    "        * stop_gained\t\n",
    "        * frameshift_variant\t\n",
    "        * stop_lost\t\n",
    "        * start_lost\t\n",
    "        * transcript_amplification\n",
    "    * Canonical - YES"
   ]
  },
  {
   "cell_type": "code",
   "execution_count": 19,
   "metadata": {
    "execution": {
     "iopub.execute_input": "2021-11-11T08:42:52.317453Z",
     "iopub.status.busy": "2021-11-11T08:42:52.316085Z",
     "iopub.status.idle": "2021-11-11T08:42:52.321540Z",
     "shell.execute_reply": "2021-11-11T08:42:52.322497Z"
    }
   },
   "outputs": [],
   "source": [
    "# columns with effects of snps\n",
    "consequence = 1\n",
    "canonical = -4"
   ]
  },
  {
   "cell_type": "code",
   "execution_count": 20,
   "metadata": {
    "execution": {
     "iopub.execute_input": "2021-11-11T08:42:52.326934Z",
     "iopub.status.busy": "2021-11-11T08:42:52.325549Z",
     "iopub.status.idle": "2021-11-11T08:42:52.384534Z",
     "shell.execute_reply": "2021-11-11T08:42:52.385584Z"
    }
   },
   "outputs": [],
   "source": [
    "mt = mt.annotate_rows(kept_transcripts =\n",
    "                     mt.info.CSQ.map(\n",
    "                         lambda x: x.split('\\|')\n",
    "                         ).filter(\n",
    "                         lambda tx: (\n",
    "                                     (tx[consequence].contains('splice_acceptor_variant')) |\n",
    "                                     (tx[consequence].contains('splice_donor_variant')) |\n",
    "                                     (tx[consequence].contains('stop_gained')) |\n",
    "                                     (tx[consequence].contains('frameshift_variant')) |\n",
    "                                     (tx[consequence].contains('stop_lost')) |\n",
    "                                     (tx[consequence].contains('start_lost')) |\n",
    "                                     (tx[consequence].contains('transcript_amplification'))\n",
    "                                    )\n",
    "                         ).filter(\n",
    "                         lambda tx: (tx[canonical].contains('YES'))\n",
    "                         )\n",
    "                    )\n",
    "\n",
    "#                                      tx[consequence].contains('missense_variant')) |\n",
    "#                                     (tx[consequence].contains('transcript_ablation')) |\n",
    "#                                     (\n",
    "\n",
    "# mt.info.CSQ.map(lambda x: x.split('\\|')).filter(lambda tx:\n",
    "# ('missense_variant' in tx[consequence]) &\n",
    "# (tx[canonical] == 'YES')))"
   ]
  },
  {
   "cell_type": "code",
   "execution_count": 21,
   "metadata": {
    "execution": {
     "iopub.execute_input": "2021-11-11T08:42:52.390166Z",
     "iopub.status.busy": "2021-11-11T08:42:52.388787Z",
     "iopub.status.idle": "2021-11-11T08:43:19.194620Z",
     "shell.execute_reply": "2021-11-11T08:43:19.195556Z"
    }
   },
   "outputs": [
    {
     "name": "stderr",
     "output_type": "stream",
     "text": [
      "[Stage 19:================================================>    (119 + 11) / 130]2022-01-28 12:17:43 Hail: INFO: Coerced sorted dataset\n",
      "[Stage 22:=====================================================>(129 + 1) / 130]2022-01-28 12:17:57 Hail: INFO: Coerced sorted dataset\n"
     ]
    },
    {
     "data": {
      "text/html": [
       "<table><thead><tr><td style=\"white-space: nowrap; max-width: 500px; overflow: hidden; text-overflow: ellipsis; \" colspan=\"1\"><div style=\"text-align: left;\"></div></td><td style=\"white-space: nowrap; max-width: 500px; overflow: hidden; text-overflow: ellipsis; \" colspan=\"1\"><div style=\"text-align: left;\"></div></td><td style=\"white-space: nowrap; max-width: 500px; overflow: hidden; text-overflow: ellipsis; \" colspan=\"1\"><div style=\"text-align: left;\"></div></td></tr><tr><td style=\"white-space: nowrap; max-width: 500px; overflow: hidden; text-overflow: ellipsis; \" colspan=\"1\"><div style=\"text-align: left;border-bottom: solid 2px #000; padding-bottom: 5px\">locus</div></td><td style=\"white-space: nowrap; max-width: 500px; overflow: hidden; text-overflow: ellipsis; \" colspan=\"1\"><div style=\"text-align: left;border-bottom: solid 2px #000; padding-bottom: 5px\">alleles</div></td><td style=\"white-space: nowrap; max-width: 500px; overflow: hidden; text-overflow: ellipsis; \" colspan=\"1\"><div style=\"text-align: left;border-bottom: solid 2px #000; padding-bottom: 5px\">kept_transcripts</div></td></tr><tr><td style=\"white-space: nowrap; max-width: 500px; overflow: hidden; text-overflow: ellipsis; text-align: left;\">locus&lt;GRCh38&gt;</td><td style=\"white-space: nowrap; max-width: 500px; overflow: hidden; text-overflow: ellipsis; text-align: left;\">array&lt;str&gt;</td><td style=\"white-space: nowrap; max-width: 500px; overflow: hidden; text-overflow: ellipsis; text-align: left;\">array&lt;array&lt;str&gt;&gt;</td></tr>\n",
       "</thead><tbody><tr><td style=\"white-space: nowrap; max-width: 500px; overflow: hidden; text-overflow: ellipsis; \">chr1:1014013</td><td style=\"white-space: nowrap; max-width: 500px; overflow: hidden; text-overflow: ellipsis; \">[&quot;G&quot;,&quot;A&quot;]</td><td style=\"white-space: nowrap; max-width: 500px; overflow: hidden; text-overflow: ellipsis; \">[]</td></tr>\n",
       "<tr><td style=\"white-space: nowrap; max-width: 500px; overflow: hidden; text-overflow: ellipsis; \">chr1:1014217</td><td style=\"white-space: nowrap; max-width: 500px; overflow: hidden; text-overflow: ellipsis; \">[&quot;C&quot;,&quot;T&quot;]</td><td style=\"white-space: nowrap; max-width: 500px; overflow: hidden; text-overflow: ellipsis; \">[]</td></tr>\n",
       "<tr><td style=\"white-space: nowrap; max-width: 500px; overflow: hidden; text-overflow: ellipsis; \">chr1:1014406</td><td style=\"white-space: nowrap; max-width: 500px; overflow: hidden; text-overflow: ellipsis; \">[&quot;C&quot;,&quot;G&quot;]</td><td style=\"white-space: nowrap; max-width: 500px; overflow: hidden; text-overflow: ellipsis; \">[]</td></tr>\n",
       "<tr><td style=\"white-space: nowrap; max-width: 500px; overflow: hidden; text-overflow: ellipsis; \">chr1:1014451</td><td style=\"white-space: nowrap; max-width: 500px; overflow: hidden; text-overflow: ellipsis; \">[&quot;C&quot;,&quot;T&quot;]</td><td style=\"white-space: nowrap; max-width: 500px; overflow: hidden; text-overflow: ellipsis; \">[]</td></tr>\n",
       "<tr><td style=\"white-space: nowrap; max-width: 500px; overflow: hidden; text-overflow: ellipsis; \">chr1:1014501</td><td style=\"white-space: nowrap; max-width: 500px; overflow: hidden; text-overflow: ellipsis; \">[&quot;A&quot;,&quot;G&quot;]</td><td style=\"white-space: nowrap; max-width: 500px; overflow: hidden; text-overflow: ellipsis; \">[]</td></tr>\n",
       "</tbody></table><p style=\"background: #fdd; padding: 0.4em;\">showing top 5 rows</p>\n"
      ],
      "text/plain": [
       "+---------------+------------+-------------------+\n",
       "| locus         | alleles    | kept_transcripts  |\n",
       "+---------------+------------+-------------------+\n",
       "| locus<GRCh38> | array<str> | array<array<str>> |\n",
       "+---------------+------------+-------------------+\n",
       "| chr1:1014013  | [\"G\",\"A\"]  | []                |\n",
       "| chr1:1014217  | [\"C\",\"T\"]  | []                |\n",
       "| chr1:1014406  | [\"C\",\"G\"]  | []                |\n",
       "| chr1:1014451  | [\"C\",\"T\"]  | []                |\n",
       "| chr1:1014501  | [\"A\",\"G\"]  | []                |\n",
       "+---------------+------------+-------------------+\n",
       "showing top 5 rows"
      ]
     },
     "metadata": {},
     "output_type": "display_data"
    }
   ],
   "source": [
    "mt.kept_transcripts.show(5)"
   ]
  },
  {
   "cell_type": "markdown",
   "metadata": {},
   "source": [
    "__Delete variants without suitable annotation__"
   ]
  },
  {
   "cell_type": "code",
   "execution_count": 22,
   "metadata": {
    "execution": {
     "iopub.execute_input": "2021-11-11T08:43:19.199566Z",
     "iopub.status.busy": "2021-11-11T08:43:19.198795Z",
     "iopub.status.idle": "2021-11-11T08:43:53.548918Z",
     "shell.execute_reply": "2021-11-11T08:43:53.549627Z"
    }
   },
   "outputs": [
    {
     "name": "stderr",
     "output_type": "stream",
     "text": [
      "/home/achangalidi/miniconda3/lib/python3.7/site-packages/ipykernel_launcher.py:2: DeprecationWarning: Call to deprecated method head. (Replaced by first) -- Deprecated since version 0.2.58.\n",
      "  \n",
      "[Stage 25:===============================================>     (116 + 14) / 130]2022-01-28 12:18:04 Hail: INFO: Coerced sorted dataset\n",
      "[Stage 28:===================================================>  (125 + 5) / 130]2022-01-28 12:18:19 Hail: INFO: Coerced sorted dataset\n",
      "[Stage 31:=============================>                            (1 + 1) / 2]"
     ]
    },
    {
     "data": {
      "text/html": [
       "<table><thead><tr><td style=\"white-space: nowrap; max-width: 500px; overflow: hidden; text-overflow: ellipsis; \" colspan=\"1\"><div style=\"text-align: left;\"></div></td><td style=\"white-space: nowrap; max-width: 500px; overflow: hidden; text-overflow: ellipsis; \" colspan=\"1\"><div style=\"text-align: left;\"></div></td><td style=\"white-space: nowrap; max-width: 500px; overflow: hidden; text-overflow: ellipsis; \" colspan=\"1\"><div style=\"text-align: left;\"></div></td></tr><tr><td style=\"white-space: nowrap; max-width: 500px; overflow: hidden; text-overflow: ellipsis; \" colspan=\"1\"><div style=\"text-align: left;border-bottom: solid 2px #000; padding-bottom: 5px\">locus</div></td><td style=\"white-space: nowrap; max-width: 500px; overflow: hidden; text-overflow: ellipsis; \" colspan=\"1\"><div style=\"text-align: left;border-bottom: solid 2px #000; padding-bottom: 5px\">alleles</div></td><td style=\"white-space: nowrap; max-width: 500px; overflow: hidden; text-overflow: ellipsis; \" colspan=\"1\"><div style=\"text-align: left;border-bottom: solid 2px #000; padding-bottom: 5px\">kept_transcripts</div></td></tr><tr><td style=\"white-space: nowrap; max-width: 500px; overflow: hidden; text-overflow: ellipsis; text-align: left;\">locus&lt;GRCh38&gt;</td><td style=\"white-space: nowrap; max-width: 500px; overflow: hidden; text-overflow: ellipsis; text-align: left;\">array&lt;str&gt;</td><td style=\"white-space: nowrap; max-width: 500px; overflow: hidden; text-overflow: ellipsis; text-align: left;\">array&lt;str&gt;</td></tr>\n",
       "</thead><tbody><tr><td style=\"white-space: nowrap; max-width: 500px; overflow: hidden; text-overflow: ellipsis; \">chr1:1049050</td><td style=\"white-space: nowrap; max-width: 500px; overflow: hidden; text-overflow: ellipsis; \">[&quot;TGCAGCTCAGGTGGGCGGGGAGGGGACGGGGCCGGG&quot;,&quot;T&quot;]</td><td style=\"white-space: nowrap; max-width: 500px; overflow: hidden; text-overflow: ellipsis; \">[&quot;-&quot;,&quot;splice_donor_variant&amp;coding_sequence_variant&amp;intron_variant&quot;,&quot;HIGH&quot;,&quot;AGRN&quot;,&quot;ENSG00000188157&quot;,&quot;Transcript&quot;,&quot;ENST00000379370&quot;,&quot;protein_coding&quot;,&quot;24/36&quot;,&quot;24/35&quot;,&quot;&quot;,&quot;&quot;,&quot;4343-?&quot;,&quot;4290-?&quot;,&quot;1430-?&quot;,&quot;&quot;,&quot;&quot;,&quot;rs1156907002&quot;,&quot;&quot;,&quot;1&quot;,&quot;&quot;,&quot;HGNC&quot;,&quot;HGNC:329&quot;,&quot;YES&quot;,&quot;&quot;,&quot;&quot;,&quot;&quot;]</td></tr>\n",
       "<tr><td style=\"white-space: nowrap; max-width: 500px; overflow: hidden; text-overflow: ellipsis; \">chr1:2029778</td><td style=\"white-space: nowrap; max-width: 500px; overflow: hidden; text-overflow: ellipsis; \">[&quot;C&quot;,&quot;T&quot;]</td><td style=\"white-space: nowrap; max-width: 500px; overflow: hidden; text-overflow: ellipsis; \">[&quot;T&quot;,&quot;stop_gained&quot;,&quot;HIGH&quot;,&quot;GABRD&quot;,&quot;ENSG00000187730&quot;,&quot;Transcript&quot;,&quot;ENST00000638771&quot;,&quot;protein_coding&quot;,&quot;8/8&quot;,&quot;&quot;,&quot;&quot;,&quot;&quot;,&quot;1120&quot;,&quot;1075&quot;,&quot;359&quot;,&quot;R/*&quot;,&quot;Cga/Tga&quot;,&quot;rs541562450&quot;,&quot;&quot;,&quot;1&quot;,&quot;&quot;,&quot;HGNC&quot;,&quot;HGNC:4084&quot;,&quot;YES&quot;,&quot;&quot;,&quot;&quot;,&quot;&quot;]</td></tr>\n",
       "<tr><td style=\"white-space: nowrap; max-width: 500px; overflow: hidden; text-overflow: ellipsis; \">chr1:5867897</td><td style=\"white-space: nowrap; max-width: 500px; overflow: hidden; text-overflow: ellipsis; \">[&quot;C&quot;,&quot;A&quot;]</td><td style=\"white-space: nowrap; max-width: 500px; overflow: hidden; text-overflow: ellipsis; \">[&quot;A&quot;,&quot;splice_acceptor_variant&quot;,&quot;HIGH&quot;,&quot;NPHP4&quot;,&quot;ENSG00000131697&quot;,&quot;Transcript&quot;,&quot;ENST00000378156&quot;,&quot;protein_coding&quot;,&quot;&quot;,&quot;23/29&quot;,&quot;&quot;,&quot;&quot;,&quot;&quot;,&quot;&quot;,&quot;&quot;,&quot;&quot;,&quot;&quot;,&quot;CS139051&amp;COSV100977135&quot;,&quot;&quot;,&quot;-1&quot;,&quot;&quot;,&quot;HGNC&quot;,&quot;HGNC:19104&quot;,&quot;YES&quot;,&quot;&quot;,&quot;0&amp;1&quot;,&quot;1&amp;1&quot;]</td></tr>\n",
       "<tr><td style=\"white-space: nowrap; max-width: 500px; overflow: hidden; text-overflow: ellipsis; \">chr1:5873294</td><td style=\"white-space: nowrap; max-width: 500px; overflow: hidden; text-overflow: ellipsis; \">[&quot;CA&quot;,&quot;C&quot;]</td><td style=\"white-space: nowrap; max-width: 500px; overflow: hidden; text-overflow: ellipsis; \">[&quot;-&quot;,&quot;frameshift_variant&quot;,&quot;HIGH&quot;,&quot;NPHP4&quot;,&quot;ENSG00000131697&quot;,&quot;Transcript&quot;,&quot;ENST00000378156&quot;,&quot;protein_coding&quot;,&quot;23/30&quot;,&quot;&quot;,&quot;&quot;,&quot;&quot;,&quot;3492&quot;,&quot;3272&quot;,&quot;1091&quot;,&quot;V/X&quot;,&quot;gTg/gg&quot;,&quot;rs1278089386&amp;CD022287&quot;,&quot;&quot;,&quot;-1&quot;,&quot;&quot;,&quot;HGNC&quot;,&quot;HGNC:19104&quot;,&quot;YES&quot;,&quot;pathogenic&quot;,&quot;&quot;,&quot;1&amp;1&quot;]</td></tr>\n",
       "<tr><td style=\"white-space: nowrap; max-width: 500px; overflow: hidden; text-overflow: ellipsis; \">chr1:6445756</td><td style=\"white-space: nowrap; max-width: 500px; overflow: hidden; text-overflow: ellipsis; \">[&quot;A&quot;,&quot;ATACCCCCCCCCCCC&quot;]</td><td style=\"white-space: nowrap; max-width: 500px; overflow: hidden; text-overflow: ellipsis; \">[&quot;TACCCCCCCCCCCC&quot;,&quot;frameshift_variant&quot;,&quot;HIGH&quot;,&quot;ESPN&quot;,&quot;ENSG00000187017&quot;,&quot;Transcript&quot;,&quot;ENST00000636330&quot;,&quot;protein_coding&quot;,&quot;7/11&quot;,&quot;&quot;,&quot;&quot;,&quot;&quot;,&quot;1453-1454&quot;,&quot;1285-1286&quot;,&quot;429&quot;,&quot;T/IPPPPX&quot;,&quot;aca/aTACCCCCCCCCCCCca&quot;,&quot;&quot;,&quot;&quot;,&quot;1&quot;,&quot;&quot;,&quot;HGNC&quot;,&quot;HGNC:13281&quot;,&quot;YES&quot;,&quot;&quot;,&quot;&quot;,&quot;&quot;]</td></tr>\n",
       "<tr><td style=\"white-space: nowrap; max-width: 500px; overflow: hidden; text-overflow: ellipsis; \">chr1:6445763</td><td style=\"white-space: nowrap; max-width: 500px; overflow: hidden; text-overflow: ellipsis; \">[&quot;CACCA&quot;,&quot;C&quot;]</td><td style=\"white-space: nowrap; max-width: 500px; overflow: hidden; text-overflow: ellipsis; \">[&quot;-&quot;,&quot;frameshift_variant&quot;,&quot;HIGH&quot;,&quot;ESPN&quot;,&quot;ENSG00000187017&quot;,&quot;Transcript&quot;,&quot;ENST00000636330&quot;,&quot;protein_coding&quot;,&quot;7/11&quot;,&quot;&quot;,&quot;&quot;,&quot;&quot;,&quot;1461-1464&quot;,&quot;1293-1296&quot;,&quot;431-432&quot;,&quot;PP/X&quot;,&quot;ccACCA/cc&quot;,&quot;rs760964146&quot;,&quot;&quot;,&quot;1&quot;,&quot;&quot;,&quot;HGNC&quot;,&quot;HGNC:13281&quot;,&quot;YES&quot;,&quot;&quot;,&quot;&quot;,&quot;&quot;]</td></tr>\n",
       "<tr><td style=\"white-space: nowrap; max-width: 500px; overflow: hidden; text-overflow: ellipsis; \">chr1:6474166</td><td style=\"white-space: nowrap; max-width: 500px; overflow: hidden; text-overflow: ellipsis; \">[&quot;T&quot;,&quot;C&quot;]</td><td style=\"white-space: nowrap; max-width: 500px; overflow: hidden; text-overflow: ellipsis; \">[&quot;C&quot;,&quot;splice_acceptor_variant&quot;,&quot;HIGH&quot;,&quot;PLEKHG5&quot;,&quot;ENSG00000171680&quot;,&quot;Transcript&quot;,&quot;ENST00000673471&quot;,&quot;protein_coding&quot;,&quot;&quot;,&quot;7/21&quot;,&quot;&quot;,&quot;&quot;,&quot;&quot;,&quot;&quot;,&quot;&quot;,&quot;&quot;,&quot;&quot;,&quot;rs144750655&quot;,&quot;&quot;,&quot;-1&quot;,&quot;&quot;,&quot;HGNC&quot;,&quot;HGNC:29105&quot;,&quot;YES&quot;,&quot;uncertain_significance&amp;likely_pathogenic&quot;,&quot;&quot;,&quot;1&quot;]</td></tr>\n",
       "<tr><td style=\"white-space: nowrap; max-width: 500px; overflow: hidden; text-overflow: ellipsis; \">chr1:10475000</td><td style=\"white-space: nowrap; max-width: 500px; overflow: hidden; text-overflow: ellipsis; \">[&quot;C&quot;,&quot;T&quot;]</td><td style=\"white-space: nowrap; max-width: 500px; overflow: hidden; text-overflow: ellipsis; \">[&quot;T&quot;,&quot;stop_gained&amp;splice_region_variant&quot;,&quot;HIGH&quot;,&quot;PEX14&quot;,&quot;ENSG00000142655&quot;,&quot;Transcript&quot;,&quot;ENST00000356607&quot;,&quot;protein_coding&quot;,&quot;1/9&quot;,&quot;&quot;,&quot;&quot;,&quot;&quot;,&quot;51&quot;,&quot;34&quot;,&quot;12&quot;,&quot;Q/*&quot;,&quot;Cag/Tag&quot;,&quot;&quot;,&quot;&quot;,&quot;1&quot;,&quot;&quot;,&quot;HGNC&quot;,&quot;HGNC:8856&quot;,&quot;YES&quot;,&quot;&quot;,&quot;&quot;,&quot;&quot;]</td></tr>\n",
       "<tr><td style=\"white-space: nowrap; max-width: 500px; overflow: hidden; text-overflow: ellipsis; \">chr1:11043395</td><td style=\"white-space: nowrap; max-width: 500px; overflow: hidden; text-overflow: ellipsis; \">[&quot;C&quot;,&quot;A&quot;]</td><td style=\"white-space: nowrap; max-width: 500px; overflow: hidden; text-overflow: ellipsis; \">[&quot;A&quot;,&quot;stop_gained&quot;,&quot;HIGH&quot;,&quot;MASP2&quot;,&quot;ENSG00000009724&quot;,&quot;Transcript&quot;,&quot;ENST00000400897&quot;,&quot;protein_coding&quot;,&quot;5/11&quot;,&quot;&quot;,&quot;&quot;,&quot;&quot;,&quot;717&quot;,&quot;685&quot;,&quot;229&quot;,&quot;E/*&quot;,&quot;Gag/Tag&quot;,&quot;rs867601234&quot;,&quot;&quot;,&quot;-1&quot;,&quot;&quot;,&quot;HGNC&quot;,&quot;HGNC:6902&quot;,&quot;YES&quot;,&quot;&quot;,&quot;&quot;,&quot;&quot;]</td></tr>\n",
       "<tr><td style=\"white-space: nowrap; max-width: 500px; overflow: hidden; text-overflow: ellipsis; \">chr1:11790681</td><td style=\"white-space: nowrap; max-width: 500px; overflow: hidden; text-overflow: ellipsis; \">[&quot;C&quot;,&quot;G&quot;]</td><td style=\"white-space: nowrap; max-width: 500px; overflow: hidden; text-overflow: ellipsis; \">[&quot;G&quot;,&quot;stop_lost&quot;,&quot;HIGH&quot;,&quot;MTHFR&quot;,&quot;ENSG00000177000&quot;,&quot;Transcript&quot;,&quot;ENST00000376585&quot;,&quot;protein_coding&quot;,&quot;13/13&quot;,&quot;&quot;,&quot;&quot;,&quot;&quot;,&quot;3145&quot;,&quot;2093&quot;,&quot;698&quot;,&quot;*/S&quot;,&quot;tGa/tCa&quot;,&quot;rs749490263&amp;CM035841&quot;,&quot;&quot;,&quot;-1&quot;,&quot;&quot;,&quot;HGNC&quot;,&quot;HGNC:7436&quot;,&quot;YES&quot;,&quot;likely_benign&quot;,&quot;&quot;,&quot;1&amp;1&quot;]</td></tr>\n",
       "</tbody></table><p style=\"background: #fdd; padding: 0.4em;\">showing top 10 rows</p>\n"
      ],
      "text/plain": [
       "+---------------+----------------------------------------------+\n",
       "| locus         | alleles                                      |\n",
       "+---------------+----------------------------------------------+\n",
       "| locus<GRCh38> | array<str>                                   |\n",
       "+---------------+----------------------------------------------+\n",
       "| chr1:1049050  | [\"TGCAGCTCAGGTGGGCGGGGAGGGGACGGGGCCGGG\",\"T\"] |\n",
       "| chr1:2029778  | [\"C\",\"T\"]                                    |\n",
       "| chr1:5867897  | [\"C\",\"A\"]                                    |\n",
       "| chr1:5873294  | [\"CA\",\"C\"]                                   |\n",
       "| chr1:6445756  | [\"A\",\"ATACCCCCCCCCCCC\"]                      |\n",
       "| chr1:6445763  | [\"CACCA\",\"C\"]                                |\n",
       "| chr1:6474166  | [\"T\",\"C\"]                                    |\n",
       "| chr1:10475000 | [\"C\",\"T\"]                                    |\n",
       "| chr1:11043395 | [\"C\",\"A\"]                                    |\n",
       "| chr1:11790681 | [\"C\",\"G\"]                                    |\n",
       "+---------------+----------------------------------------------+\n",
       "\n",
       "+------------------------------------------------------------------------------+\n",
       "| kept_transcripts                                                             |\n",
       "+------------------------------------------------------------------------------+\n",
       "| array<str>                                                                   |\n",
       "+------------------------------------------------------------------------------+\n",
       "| [\"-\",\"splice_donor_variant&coding_sequence_variant&intron_variant\",\"HIGH\"... |\n",
       "| [\"T\",\"stop_gained\",\"HIGH\",\"GABRD\",\"ENSG00000187730\",\"Transcript\",\"ENST000... |\n",
       "| [\"A\",\"splice_acceptor_variant\",\"HIGH\",\"NPHP4\",\"ENSG00000131697\",\"Transcri... |\n",
       "| [\"-\",\"frameshift_variant\",\"HIGH\",\"NPHP4\",\"ENSG00000131697\",\"Transcript\",\"... |\n",
       "| [\"TACCCCCCCCCCCC\",\"frameshift_variant\",\"HIGH\",\"ESPN\",\"ENSG00000187017\",\"T... |\n",
       "| [\"-\",\"frameshift_variant\",\"HIGH\",\"ESPN\",\"ENSG00000187017\",\"Transcript\",\"E... |\n",
       "| [\"C\",\"splice_acceptor_variant\",\"HIGH\",\"PLEKHG5\",\"ENSG00000171680\",\"Transc... |\n",
       "| [\"T\",\"stop_gained&splice_region_variant\",\"HIGH\",\"PEX14\",\"ENSG00000142655\"... |\n",
       "| [\"A\",\"stop_gained\",\"HIGH\",\"MASP2\",\"ENSG00000009724\",\"Transcript\",\"ENST000... |\n",
       "| [\"G\",\"stop_lost\",\"HIGH\",\"MTHFR\",\"ENSG00000177000\",\"Transcript\",\"ENST00000... |\n",
       "+------------------------------------------------------------------------------+\n",
       "showing top 10 rows"
      ]
     },
     "metadata": {},
     "output_type": "display_data"
    }
   ],
   "source": [
    "mt = mt.filter_rows(hl.len(mt.kept_transcripts) >= 1)\n",
    "mt = mt.annotate_rows(kept_transcripts=mt.kept_transcripts.head())\n",
    "mt.kept_transcripts.show()"
   ]
  },
  {
   "cell_type": "markdown",
   "metadata": {},
   "source": [
    "__Take gene_symbol and other fields, that we will need for filtration__"
   ]
  },
  {
   "cell_type": "code",
   "execution_count": 23,
   "metadata": {
    "execution": {
     "iopub.execute_input": "2021-11-11T08:43:53.561044Z",
     "iopub.status.busy": "2021-11-11T08:43:53.560135Z",
     "iopub.status.idle": "2021-11-11T08:43:53.655479Z",
     "shell.execute_reply": "2021-11-11T08:43:53.656187Z"
    }
   },
   "outputs": [],
   "source": [
    "mt = mt.annotate_rows(kept_transcripts = mt.kept_transcripts[3])"
   ]
  },
  {
   "cell_type": "code",
   "execution_count": 24,
   "metadata": {
    "execution": {
     "iopub.execute_input": "2021-11-11T08:43:53.670684Z",
     "iopub.status.busy": "2021-11-11T08:43:53.669792Z",
     "iopub.status.idle": "2021-11-11T08:44:21.629844Z",
     "shell.execute_reply": "2021-11-11T08:44:21.630628Z"
    }
   },
   "outputs": [
    {
     "name": "stderr",
     "output_type": "stream",
     "text": [
      "[Stage 32:=====================================================>(129 + 1) / 130]2022-01-28 12:18:31 Hail: INFO: Coerced sorted dataset\n",
      "[Stage 35:============================================>        (110 + 20) / 130]2022-01-28 12:18:45 Hail: INFO: Coerced sorted dataset\n",
      "[Stage 37:>                                                         (0 + 1) / 1]"
     ]
    },
    {
     "data": {
      "text/html": [
       "<table><thead><tr><td style=\"white-space: nowrap; max-width: 500px; overflow: hidden; text-overflow: ellipsis; \" colspan=\"1\"><div style=\"text-align: left;\"></div></td><td style=\"white-space: nowrap; max-width: 500px; overflow: hidden; text-overflow: ellipsis; \" colspan=\"1\"><div style=\"text-align: left;\"></div></td><td style=\"white-space: nowrap; max-width: 500px; overflow: hidden; text-overflow: ellipsis; \" colspan=\"1\"><div style=\"text-align: left;\"></div></td></tr><tr><td style=\"white-space: nowrap; max-width: 500px; overflow: hidden; text-overflow: ellipsis; \" colspan=\"1\"><div style=\"text-align: left;border-bottom: solid 2px #000; padding-bottom: 5px\">locus</div></td><td style=\"white-space: nowrap; max-width: 500px; overflow: hidden; text-overflow: ellipsis; \" colspan=\"1\"><div style=\"text-align: left;border-bottom: solid 2px #000; padding-bottom: 5px\">alleles</div></td><td style=\"white-space: nowrap; max-width: 500px; overflow: hidden; text-overflow: ellipsis; \" colspan=\"1\"><div style=\"text-align: left;border-bottom: solid 2px #000; padding-bottom: 5px\">kept_transcripts</div></td></tr><tr><td style=\"white-space: nowrap; max-width: 500px; overflow: hidden; text-overflow: ellipsis; text-align: left;\">locus&lt;GRCh38&gt;</td><td style=\"white-space: nowrap; max-width: 500px; overflow: hidden; text-overflow: ellipsis; text-align: left;\">array&lt;str&gt;</td><td style=\"white-space: nowrap; max-width: 500px; overflow: hidden; text-overflow: ellipsis; text-align: left;\">str</td></tr>\n",
       "</thead><tbody><tr><td style=\"white-space: nowrap; max-width: 500px; overflow: hidden; text-overflow: ellipsis; \">chr1:1049050</td><td style=\"white-space: nowrap; max-width: 500px; overflow: hidden; text-overflow: ellipsis; \">[&quot;TGCAGCTCAGGTGGGCGGGGAGGGGACGGGGCCGGG&quot;,&quot;T&quot;]</td><td style=\"white-space: nowrap; max-width: 500px; overflow: hidden; text-overflow: ellipsis; \">&quot;AGRN&quot;</td></tr>\n",
       "<tr><td style=\"white-space: nowrap; max-width: 500px; overflow: hidden; text-overflow: ellipsis; \">chr1:2029778</td><td style=\"white-space: nowrap; max-width: 500px; overflow: hidden; text-overflow: ellipsis; \">[&quot;C&quot;,&quot;T&quot;]</td><td style=\"white-space: nowrap; max-width: 500px; overflow: hidden; text-overflow: ellipsis; \">&quot;GABRD&quot;</td></tr>\n",
       "<tr><td style=\"white-space: nowrap; max-width: 500px; overflow: hidden; text-overflow: ellipsis; \">chr1:5867897</td><td style=\"white-space: nowrap; max-width: 500px; overflow: hidden; text-overflow: ellipsis; \">[&quot;C&quot;,&quot;A&quot;]</td><td style=\"white-space: nowrap; max-width: 500px; overflow: hidden; text-overflow: ellipsis; \">&quot;NPHP4&quot;</td></tr>\n",
       "<tr><td style=\"white-space: nowrap; max-width: 500px; overflow: hidden; text-overflow: ellipsis; \">chr1:5873294</td><td style=\"white-space: nowrap; max-width: 500px; overflow: hidden; text-overflow: ellipsis; \">[&quot;CA&quot;,&quot;C&quot;]</td><td style=\"white-space: nowrap; max-width: 500px; overflow: hidden; text-overflow: ellipsis; \">&quot;NPHP4&quot;</td></tr>\n",
       "<tr><td style=\"white-space: nowrap; max-width: 500px; overflow: hidden; text-overflow: ellipsis; \">chr1:6445756</td><td style=\"white-space: nowrap; max-width: 500px; overflow: hidden; text-overflow: ellipsis; \">[&quot;A&quot;,&quot;ATACCCCCCCCCCCC&quot;]</td><td style=\"white-space: nowrap; max-width: 500px; overflow: hidden; text-overflow: ellipsis; \">&quot;ESPN&quot;</td></tr>\n",
       "</tbody></table><p style=\"background: #fdd; padding: 0.4em;\">showing top 5 rows</p>\n"
      ],
      "text/plain": [
       "+---------------+----------------------------------------------+\n",
       "| locus         | alleles                                      |\n",
       "+---------------+----------------------------------------------+\n",
       "| locus<GRCh38> | array<str>                                   |\n",
       "+---------------+----------------------------------------------+\n",
       "| chr1:1049050  | [\"TGCAGCTCAGGTGGGCGGGGAGGGGACGGGGCCGGG\",\"T\"] |\n",
       "| chr1:2029778  | [\"C\",\"T\"]                                    |\n",
       "| chr1:5867897  | [\"C\",\"A\"]                                    |\n",
       "| chr1:5873294  | [\"CA\",\"C\"]                                   |\n",
       "| chr1:6445756  | [\"A\",\"ATACCCCCCCCCCCC\"]                      |\n",
       "+---------------+----------------------------------------------+\n",
       "\n",
       "+------------------+\n",
       "| kept_transcripts |\n",
       "+------------------+\n",
       "| str              |\n",
       "+------------------+\n",
       "| \"AGRN\"           |\n",
       "| \"GABRD\"          |\n",
       "| \"NPHP4\"          |\n",
       "| \"NPHP4\"          |\n",
       "| \"ESPN\"           |\n",
       "+------------------+\n",
       "showing top 5 rows"
      ]
     },
     "metadata": {},
     "output_type": "display_data"
    }
   ],
   "source": [
    "mt.kept_transcripts.show(5)"
   ]
  },
  {
   "cell_type": "code",
   "execution_count": 25,
   "metadata": {
    "execution": {
     "iopub.execute_input": "2021-11-11T08:44:21.640620Z",
     "iopub.status.busy": "2021-11-11T08:44:21.639796Z",
     "iopub.status.idle": "2021-11-11T08:45:23.731548Z",
     "shell.execute_reply": "2021-11-11T08:45:23.732199Z"
    }
   },
   "outputs": [
    {
     "name": "stderr",
     "output_type": "stream",
     "text": [
      "[Stage 38:==================================================>   (121 + 9) / 130]2022-01-28 12:18:53 Hail: INFO: Coerced sorted dataset\n",
      "[Stage 41:====================================================> (127 + 3) / 130]2022-01-28 12:19:08 Hail: INFO: Coerced sorted dataset\n",
      "[Stage 44:=====================================================>(128 + 2) / 130]2022-01-28 12:19:25 Hail: INFO: Coerced sorted dataset\n",
      "[Stage 45:=====================================================>(129 + 1) / 130]"
     ]
    },
    {
     "data": {
      "text/plain": [
       "(1884, 768)"
      ]
     },
     "execution_count": 25,
     "metadata": {},
     "output_type": "execute_result"
    }
   ],
   "source": [
    "mt.count()"
   ]
  },
  {
   "cell_type": "markdown",
   "metadata": {},
   "source": [
    "__Group by genes for each patient and pull out this info__"
   ]
  },
  {
   "cell_type": "code",
   "execution_count": 26,
   "metadata": {
    "execution": {
     "iopub.execute_input": "2021-11-11T08:45:23.747452Z",
     "iopub.status.busy": "2021-11-11T08:45:23.746634Z",
     "iopub.status.idle": "2021-11-11T08:45:23.778615Z",
     "shell.execute_reply": "2021-11-11T08:45:23.779039Z"
    }
   },
   "outputs": [],
   "source": [
    "mt_new = mt.group_rows_by(mt.kept_transcripts) \\\n",
    "    .aggregate(n_het=hl.agg.count_where(mt.GT.is_het()), \n",
    "               n_hom_ref=hl.agg.count_where(mt.GT.is_hom_ref()), \n",
    "               n_hom_var=hl.agg.count_where(mt.GT.is_hom_var())\n",
    "                   )"
   ]
  },
  {
   "cell_type": "markdown",
   "metadata": {},
   "source": [
    "__To pandas__"
   ]
  },
  {
   "cell_type": "code",
   "execution_count": 27,
   "metadata": {
    "execution": {
     "iopub.execute_input": "2021-11-11T08:45:23.783928Z",
     "iopub.status.busy": "2021-11-11T08:45:23.783143Z",
     "iopub.status.idle": "2021-11-11T08:50:01.482953Z",
     "shell.execute_reply": "2021-11-11T08:50:01.483580Z"
    }
   },
   "outputs": [
    {
     "name": "stderr",
     "output_type": "stream",
     "text": [
      "2022-01-28 12:19:39 Hail: WARN: entries(): Resulting entries table is sorted by '(row_key, col_key)'.\n",
      "    To preserve row-major matrix table order, first unkey columns with 'key_cols_by()'\n",
      "[Stage 47:================================================>    (118 + 12) / 130]2022-01-28 12:19:44 Hail: INFO: Coerced sorted dataset\n",
      "[Stage 51:=====================================================>(128 + 2) / 130]2022-01-28 12:19:57 Hail: INFO: Coerced sorted dataset\n",
      "[Stage 55:===================================================>  (125 + 5) / 130]2022-01-28 12:20:21 Hail: INFO: Coerced sorted dataset\n",
      "[Stage 57:=============================================>       (111 + 19) / 130]2022-01-28 12:20:37 Hail: INFO: Ordering unsorted dataset with network shuffle\n",
      "[Stage 60:==============================================>      (113 + 17) / 130]"
     ]
    },
    {
     "name": "stdout",
     "output_type": "stream",
     "text": [
      "(860928, 91)\n"
     ]
    },
    {
     "data": {
      "text/html": [
       "<div>\n",
       "<style scoped>\n",
       "    .dataframe tbody tr th:only-of-type {\n",
       "        vertical-align: middle;\n",
       "    }\n",
       "\n",
       "    .dataframe tbody tr th {\n",
       "        vertical-align: top;\n",
       "    }\n",
       "\n",
       "    .dataframe thead th {\n",
       "        text-align: right;\n",
       "    }\n",
       "</style>\n",
       "<table border=\"1\" class=\"dataframe\">\n",
       "  <thead>\n",
       "    <tr style=\"text-align: right;\">\n",
       "      <th></th>\n",
       "      <th>kept_transcripts</th>\n",
       "      <th>genome_id</th>\n",
       "      <th>pheno.launch_id</th>\n",
       "      <th>pheno.man_id</th>\n",
       "      <th>pheno.storm</th>\n",
       "      <th>pheno.crp</th>\n",
       "      <th>pheno.leuk</th>\n",
       "      <th>pheno.neut</th>\n",
       "      <th>pheno.l</th>\n",
       "      <th>pheno.creat</th>\n",
       "      <th>...</th>\n",
       "      <th>sample_qc.n_deletion</th>\n",
       "      <th>sample_qc.n_transition</th>\n",
       "      <th>sample_qc.n_transversion</th>\n",
       "      <th>sample_qc.n_star</th>\n",
       "      <th>sample_qc.r_ti_tv</th>\n",
       "      <th>sample_qc.r_het_hom_var</th>\n",
       "      <th>sample_qc.r_insertion_deletion</th>\n",
       "      <th>n_het</th>\n",
       "      <th>n_hom_ref</th>\n",
       "      <th>n_hom_var</th>\n",
       "    </tr>\n",
       "  </thead>\n",
       "  <tbody>\n",
       "    <tr>\n",
       "      <th>0</th>\n",
       "      <td>A2M</td>\n",
       "      <td>637</td>\n",
       "      <td>63</td>\n",
       "      <td>626630</td>\n",
       "      <td>0.0</td>\n",
       "      <td>-0.697821</td>\n",
       "      <td>-2.168169</td>\n",
       "      <td>-1.909299</td>\n",
       "      <td>-1.288741</td>\n",
       "      <td>-0.298489</td>\n",
       "      <td>...</td>\n",
       "      <td>65</td>\n",
       "      <td>1490</td>\n",
       "      <td>531</td>\n",
       "      <td>0</td>\n",
       "      <td>2.806026</td>\n",
       "      <td>0.770725</td>\n",
       "      <td>0.815385</td>\n",
       "      <td>0</td>\n",
       "      <td>1</td>\n",
       "      <td>0</td>\n",
       "    </tr>\n",
       "    <tr>\n",
       "      <th>1</th>\n",
       "      <td>A2M</td>\n",
       "      <td>639</td>\n",
       "      <td>63</td>\n",
       "      <td>620762</td>\n",
       "      <td>0.0</td>\n",
       "      <td>1.101656</td>\n",
       "      <td>0.307014</td>\n",
       "      <td>0.426411</td>\n",
       "      <td>-0.617996</td>\n",
       "      <td>-0.769107</td>\n",
       "      <td>...</td>\n",
       "      <td>66</td>\n",
       "      <td>1461</td>\n",
       "      <td>543</td>\n",
       "      <td>0</td>\n",
       "      <td>2.690608</td>\n",
       "      <td>0.776762</td>\n",
       "      <td>0.863636</td>\n",
       "      <td>0</td>\n",
       "      <td>1</td>\n",
       "      <td>0</td>\n",
       "    </tr>\n",
       "    <tr>\n",
       "      <th>2</th>\n",
       "      <td>A2M</td>\n",
       "      <td>881</td>\n",
       "      <td>88</td>\n",
       "      <td>621011</td>\n",
       "      <td>0.0</td>\n",
       "      <td>0.350675</td>\n",
       "      <td>-0.239527</td>\n",
       "      <td>-0.022812</td>\n",
       "      <td>-0.169224</td>\n",
       "      <td>-2.013296</td>\n",
       "      <td>...</td>\n",
       "      <td>56</td>\n",
       "      <td>1380</td>\n",
       "      <td>494</td>\n",
       "      <td>0</td>\n",
       "      <td>2.793522</td>\n",
       "      <td>0.746871</td>\n",
       "      <td>0.803571</td>\n",
       "      <td>0</td>\n",
       "      <td>1</td>\n",
       "      <td>0</td>\n",
       "    </tr>\n",
       "    <tr>\n",
       "      <th>3</th>\n",
       "      <td>A2M</td>\n",
       "      <td>882</td>\n",
       "      <td>88</td>\n",
       "      <td>627130</td>\n",
       "      <td>0.0</td>\n",
       "      <td>-0.179248</td>\n",
       "      <td>0.150065</td>\n",
       "      <td>0.163654</td>\n",
       "      <td>-0.194830</td>\n",
       "      <td>-1.988692</td>\n",
       "      <td>...</td>\n",
       "      <td>61</td>\n",
       "      <td>1512</td>\n",
       "      <td>527</td>\n",
       "      <td>0</td>\n",
       "      <td>2.869070</td>\n",
       "      <td>0.954608</td>\n",
       "      <td>0.786885</td>\n",
       "      <td>0</td>\n",
       "      <td>1</td>\n",
       "      <td>0</td>\n",
       "    </tr>\n",
       "    <tr>\n",
       "      <th>4</th>\n",
       "      <td>A2M</td>\n",
       "      <td>883</td>\n",
       "      <td>88</td>\n",
       "      <td>627508</td>\n",
       "      <td>0.0</td>\n",
       "      <td>-1.236441</td>\n",
       "      <td>-1.380005</td>\n",
       "      <td>-1.029558</td>\n",
       "      <td>-0.262704</td>\n",
       "      <td>-1.302998</td>\n",
       "      <td>...</td>\n",
       "      <td>58</td>\n",
       "      <td>1476</td>\n",
       "      <td>557</td>\n",
       "      <td>0</td>\n",
       "      <td>2.649910</td>\n",
       "      <td>0.990196</td>\n",
       "      <td>0.758621</td>\n",
       "      <td>0</td>\n",
       "      <td>1</td>\n",
       "      <td>0</td>\n",
       "    </tr>\n",
       "  </tbody>\n",
       "</table>\n",
       "<p>5 rows × 91 columns</p>\n",
       "</div>"
      ],
      "text/plain": [
       "  kept_transcripts  genome_id  pheno.launch_id  pheno.man_id  pheno.storm  \\\n",
       "0              A2M        637               63        626630          0.0   \n",
       "1              A2M        639               63        620762          0.0   \n",
       "2              A2M        881               88        621011          0.0   \n",
       "3              A2M        882               88        627130          0.0   \n",
       "4              A2M        883               88        627508          0.0   \n",
       "\n",
       "   pheno.crp  pheno.leuk  pheno.neut   pheno.l  pheno.creat  ...  \\\n",
       "0  -0.697821   -2.168169   -1.909299 -1.288741    -0.298489  ...   \n",
       "1   1.101656    0.307014    0.426411 -0.617996    -0.769107  ...   \n",
       "2   0.350675   -0.239527   -0.022812 -0.169224    -2.013296  ...   \n",
       "3  -0.179248    0.150065    0.163654 -0.194830    -1.988692  ...   \n",
       "4  -1.236441   -1.380005   -1.029558 -0.262704    -1.302998  ...   \n",
       "\n",
       "   sample_qc.n_deletion  sample_qc.n_transition  sample_qc.n_transversion  \\\n",
       "0                    65                    1490                       531   \n",
       "1                    66                    1461                       543   \n",
       "2                    56                    1380                       494   \n",
       "3                    61                    1512                       527   \n",
       "4                    58                    1476                       557   \n",
       "\n",
       "   sample_qc.n_star  sample_qc.r_ti_tv  sample_qc.r_het_hom_var  \\\n",
       "0                 0           2.806026                 0.770725   \n",
       "1                 0           2.690608                 0.776762   \n",
       "2                 0           2.793522                 0.746871   \n",
       "3                 0           2.869070                 0.954608   \n",
       "4                 0           2.649910                 0.990196   \n",
       "\n",
       "  sample_qc.r_insertion_deletion  n_het  n_hom_ref  n_hom_var  \n",
       "0                       0.815385      0          1          0  \n",
       "1                       0.863636      0          1          0  \n",
       "2                       0.803571      0          1          0  \n",
       "3                       0.786885      0          1          0  \n",
       "4                       0.758621      0          1          0  \n",
       "\n",
       "[5 rows x 91 columns]"
      ]
     },
     "execution_count": 27,
     "metadata": {},
     "output_type": "execute_result"
    }
   ],
   "source": [
    "tbl = mt_new.entries()\n",
    "data_d = tbl.to_pandas()\n",
    "print(data_d.shape)\n",
    "data_d.head()"
   ]
  },
  {
   "cell_type": "code",
   "execution_count": 28,
   "metadata": {
    "execution": {
     "iopub.execute_input": "2021-11-11T08:50:01.489965Z",
     "iopub.status.busy": "2021-11-11T08:50:01.489213Z",
     "iopub.status.idle": "2021-11-11T08:50:02.112162Z",
     "shell.execute_reply": "2021-11-11T08:50:02.112773Z"
    }
   },
   "outputs": [],
   "source": [
    "from scipy.stats import fisher_exact\n",
    "import seaborn as sns\n",
    "import matplotlib.pyplot as plt"
   ]
  },
  {
   "cell_type": "markdown",
   "metadata": {},
   "source": [
    "One person can have several mutations, so we have to transform information into 2 columns:\n",
    "* individual has mutation (`if n_het > 0 or n_hom_var > 0`)\n",
    "* doesn't have (`else`)"
   ]
  },
  {
   "cell_type": "code",
   "execution_count": 29,
   "metadata": {
    "execution": {
     "iopub.execute_input": "2021-11-11T08:50:02.128018Z",
     "iopub.status.busy": "2021-11-11T08:50:02.127213Z",
     "iopub.status.idle": "2021-11-11T08:50:03.206704Z",
     "shell.execute_reply": "2021-11-11T08:50:03.207334Z"
    },
    "scrolled": true
   },
   "outputs": [
    {
     "data": {
      "text/html": [
       "<div>\n",
       "<style scoped>\n",
       "    .dataframe tbody tr th:only-of-type {\n",
       "        vertical-align: middle;\n",
       "    }\n",
       "\n",
       "    .dataframe tbody tr th {\n",
       "        vertical-align: top;\n",
       "    }\n",
       "\n",
       "    .dataframe thead th {\n",
       "        text-align: right;\n",
       "    }\n",
       "</style>\n",
       "<table border=\"1\" class=\"dataframe\">\n",
       "  <thead>\n",
       "    <tr style=\"text-align: right;\">\n",
       "      <th></th>\n",
       "      <th>kept_transcripts</th>\n",
       "      <th>genome_id</th>\n",
       "      <th>pheno.launch_id</th>\n",
       "      <th>pheno.man_id</th>\n",
       "      <th>pheno.storm</th>\n",
       "      <th>pheno.crp</th>\n",
       "      <th>pheno.leuk</th>\n",
       "      <th>pheno.neut</th>\n",
       "      <th>pheno.l</th>\n",
       "      <th>pheno.creat</th>\n",
       "      <th>...</th>\n",
       "      <th>sample_qc.n_transversion</th>\n",
       "      <th>sample_qc.n_star</th>\n",
       "      <th>sample_qc.r_ti_tv</th>\n",
       "      <th>sample_qc.r_het_hom_var</th>\n",
       "      <th>sample_qc.r_insertion_deletion</th>\n",
       "      <th>n_het</th>\n",
       "      <th>n_hom_ref</th>\n",
       "      <th>n_hom_var</th>\n",
       "      <th>is_alter</th>\n",
       "      <th>ref</th>\n",
       "    </tr>\n",
       "  </thead>\n",
       "  <tbody>\n",
       "    <tr>\n",
       "      <th>0</th>\n",
       "      <td>A2M</td>\n",
       "      <td>637</td>\n",
       "      <td>63</td>\n",
       "      <td>626630</td>\n",
       "      <td>0.0</td>\n",
       "      <td>-0.697821</td>\n",
       "      <td>-2.168169</td>\n",
       "      <td>-1.909299</td>\n",
       "      <td>-1.288741</td>\n",
       "      <td>-0.298489</td>\n",
       "      <td>...</td>\n",
       "      <td>531</td>\n",
       "      <td>0</td>\n",
       "      <td>2.806026</td>\n",
       "      <td>0.770725</td>\n",
       "      <td>0.815385</td>\n",
       "      <td>0</td>\n",
       "      <td>1</td>\n",
       "      <td>0</td>\n",
       "      <td>0</td>\n",
       "      <td>1</td>\n",
       "    </tr>\n",
       "    <tr>\n",
       "      <th>1</th>\n",
       "      <td>A2M</td>\n",
       "      <td>639</td>\n",
       "      <td>63</td>\n",
       "      <td>620762</td>\n",
       "      <td>0.0</td>\n",
       "      <td>1.101656</td>\n",
       "      <td>0.307014</td>\n",
       "      <td>0.426411</td>\n",
       "      <td>-0.617996</td>\n",
       "      <td>-0.769107</td>\n",
       "      <td>...</td>\n",
       "      <td>543</td>\n",
       "      <td>0</td>\n",
       "      <td>2.690608</td>\n",
       "      <td>0.776762</td>\n",
       "      <td>0.863636</td>\n",
       "      <td>0</td>\n",
       "      <td>1</td>\n",
       "      <td>0</td>\n",
       "      <td>0</td>\n",
       "      <td>1</td>\n",
       "    </tr>\n",
       "    <tr>\n",
       "      <th>2</th>\n",
       "      <td>A2M</td>\n",
       "      <td>881</td>\n",
       "      <td>88</td>\n",
       "      <td>621011</td>\n",
       "      <td>0.0</td>\n",
       "      <td>0.350675</td>\n",
       "      <td>-0.239527</td>\n",
       "      <td>-0.022812</td>\n",
       "      <td>-0.169224</td>\n",
       "      <td>-2.013296</td>\n",
       "      <td>...</td>\n",
       "      <td>494</td>\n",
       "      <td>0</td>\n",
       "      <td>2.793522</td>\n",
       "      <td>0.746871</td>\n",
       "      <td>0.803571</td>\n",
       "      <td>0</td>\n",
       "      <td>1</td>\n",
       "      <td>0</td>\n",
       "      <td>0</td>\n",
       "      <td>1</td>\n",
       "    </tr>\n",
       "    <tr>\n",
       "      <th>3</th>\n",
       "      <td>A2M</td>\n",
       "      <td>882</td>\n",
       "      <td>88</td>\n",
       "      <td>627130</td>\n",
       "      <td>0.0</td>\n",
       "      <td>-0.179248</td>\n",
       "      <td>0.150065</td>\n",
       "      <td>0.163654</td>\n",
       "      <td>-0.194830</td>\n",
       "      <td>-1.988692</td>\n",
       "      <td>...</td>\n",
       "      <td>527</td>\n",
       "      <td>0</td>\n",
       "      <td>2.869070</td>\n",
       "      <td>0.954608</td>\n",
       "      <td>0.786885</td>\n",
       "      <td>0</td>\n",
       "      <td>1</td>\n",
       "      <td>0</td>\n",
       "      <td>0</td>\n",
       "      <td>1</td>\n",
       "    </tr>\n",
       "    <tr>\n",
       "      <th>4</th>\n",
       "      <td>A2M</td>\n",
       "      <td>883</td>\n",
       "      <td>88</td>\n",
       "      <td>627508</td>\n",
       "      <td>0.0</td>\n",
       "      <td>-1.236441</td>\n",
       "      <td>-1.380005</td>\n",
       "      <td>-1.029558</td>\n",
       "      <td>-0.262704</td>\n",
       "      <td>-1.302998</td>\n",
       "      <td>...</td>\n",
       "      <td>557</td>\n",
       "      <td>0</td>\n",
       "      <td>2.649910</td>\n",
       "      <td>0.990196</td>\n",
       "      <td>0.758621</td>\n",
       "      <td>0</td>\n",
       "      <td>1</td>\n",
       "      <td>0</td>\n",
       "      <td>0</td>\n",
       "      <td>1</td>\n",
       "    </tr>\n",
       "  </tbody>\n",
       "</table>\n",
       "<p>5 rows × 93 columns</p>\n",
       "</div>"
      ],
      "text/plain": [
       "  kept_transcripts  genome_id  pheno.launch_id  pheno.man_id  pheno.storm  \\\n",
       "0              A2M        637               63        626630          0.0   \n",
       "1              A2M        639               63        620762          0.0   \n",
       "2              A2M        881               88        621011          0.0   \n",
       "3              A2M        882               88        627130          0.0   \n",
       "4              A2M        883               88        627508          0.0   \n",
       "\n",
       "   pheno.crp  pheno.leuk  pheno.neut   pheno.l  pheno.creat  ...  \\\n",
       "0  -0.697821   -2.168169   -1.909299 -1.288741    -0.298489  ...   \n",
       "1   1.101656    0.307014    0.426411 -0.617996    -0.769107  ...   \n",
       "2   0.350675   -0.239527   -0.022812 -0.169224    -2.013296  ...   \n",
       "3  -0.179248    0.150065    0.163654 -0.194830    -1.988692  ...   \n",
       "4  -1.236441   -1.380005   -1.029558 -0.262704    -1.302998  ...   \n",
       "\n",
       "   sample_qc.n_transversion  sample_qc.n_star  sample_qc.r_ti_tv  \\\n",
       "0                       531                 0           2.806026   \n",
       "1                       543                 0           2.690608   \n",
       "2                       494                 0           2.793522   \n",
       "3                       527                 0           2.869070   \n",
       "4                       557                 0           2.649910   \n",
       "\n",
       "   sample_qc.r_het_hom_var  sample_qc.r_insertion_deletion  n_het n_hom_ref  \\\n",
       "0                 0.770725                        0.815385      0         1   \n",
       "1                 0.776762                        0.863636      0         1   \n",
       "2                 0.746871                        0.803571      0         1   \n",
       "3                 0.954608                        0.786885      0         1   \n",
       "4                 0.990196                        0.758621      0         1   \n",
       "\n",
       "   n_hom_var  is_alter  ref  \n",
       "0          0         0    1  \n",
       "1          0         0    1  \n",
       "2          0         0    1  \n",
       "3          0         0    1  \n",
       "4          0         0    1  \n",
       "\n",
       "[5 rows x 93 columns]"
      ]
     },
     "execution_count": 29,
     "metadata": {},
     "output_type": "execute_result"
    }
   ],
   "source": [
    "data_d['is_alter'] = data_d.loc[:,['n_het', 'n_hom_var']].sum(axis = 1).apply(lambda x: int(x > 0))\n",
    "data_d['ref'] = data_d.loc[:,['is_alter']].apply(lambda x: 1-x)\n",
    "data_d.head()"
   ]
  },
  {
   "cell_type": "code",
   "execution_count": null,
   "metadata": {},
   "outputs": [],
   "source": []
  },
  {
   "cell_type": "markdown",
   "metadata": {},
   "source": [
    "### Save data"
   ]
  },
  {
   "cell_type": "code",
   "execution_count": 30,
   "metadata": {
    "execution": {
     "iopub.execute_input": "2021-11-11T08:50:03.211683Z",
     "iopub.status.busy": "2021-11-11T08:50:03.210808Z",
     "iopub.status.idle": "2021-11-11T08:55:44.860141Z",
     "shell.execute_reply": "2021-11-11T08:55:44.861286Z"
    }
   },
   "outputs": [],
   "source": [
    "data_d.to_csv(SAVE_TO, sep='\\t', index=False)"
   ]
  },
  {
   "cell_type": "markdown",
   "metadata": {},
   "source": [
    "## "
   ]
  }
 ],
 "metadata": {
  "kernelspec": {
   "display_name": "Python 3 (ipykernel)",
   "language": "python",
   "name": "python3"
  },
  "language_info": {
   "codemirror_mode": {
    "name": "ipython",
    "version": 3
   },
   "file_extension": ".py",
   "mimetype": "text/x-python",
   "name": "python",
   "nbconvert_exporter": "python",
   "pygments_lexer": "ipython3",
   "version": "3.7.11"
  }
 },
 "nbformat": 4,
 "nbformat_minor": 4
}
